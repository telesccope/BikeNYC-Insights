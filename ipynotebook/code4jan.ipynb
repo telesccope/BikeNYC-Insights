{
 "cells": [
  {
   "cell_type": "code",
   "execution_count": 1,
   "id": "f9c0e58f-f86a-4d31-b8d5-b2f35c80a16e",
   "metadata": {},
   "outputs": [],
   "source": [
    "import pandas as pd\n",
    "import matplotlib.pyplot as plt\n",
    "import seaborn as sns\n",
    "\n",
    "# 获取所有 CSV 文件的路径\n",
    "file_path = './data/2019-citibike-tripdata/1_January/201901-citibike-tripdata_1.csv'\n",
    "\n",
    "# 读取并合并所有 CSV 文件\n",
    "data = pd.read_csv(file_path)"
   ]
  },
  {
   "cell_type": "code",
   "execution_count": 2,
   "id": "ee4cfc09-5e40-4736-9bb8-7acf5781b4c4",
   "metadata": {},
   "outputs": [],
   "source": [
    "# 计算每个站点的开始和结束骑行次数\n",
    "start_station_counts = data.groupby(['start station id', 'start station name']).size().reset_index(name='ride start count')\n",
    "end_station_counts = data.groupby(['end station id', 'end station name']).size().reset_index(name='ride end count')\n",
    "\n",
    "# 合并开始和结束骑行次数\n",
    "station_activity = pd.merge(start_station_counts, end_station_counts,\n",
    "                            left_on='start station id', right_on='end station id',\n",
    "                            how='outer').fillna(0)\n",
    "\n",
    "# 计算总骑行活动\n",
    "station_activity['ride activity'] = station_activity['ride start count'] + station_activity['ride end count']\n",
    "\n",
    "# 重命名列\n",
    "station_activity = station_activity.rename(columns={\n",
    "    'start station name': 'station name'\n",
    "})"
   ]
  },
  {
   "cell_type": "code",
   "execution_count": 3,
   "id": "e7b22a29-806a-466b-9e70-235a2cc6105e",
   "metadata": {},
   "outputs": [
    {
     "name": "stdout",
     "output_type": "stream",
     "text": [
      "Unique start stations: 767\n",
      "Unique end stations: 773\n",
      "Total unique stations: 773\n"
     ]
    }
   ],
   "source": [
    "# 统计唯一的起始站点和结束站点的个数\n",
    "unique_start_stations = data['start station id'].nunique()\n",
    "unique_end_stations = data['end station id'].nunique()\n",
    "\n",
    "# 打印结果\n",
    "print(f\"Unique start stations: {unique_start_stations}\")\n",
    "print(f\"Unique end stations: {unique_end_stations}\")\n",
    "\n",
    "# 或者，如果你想统计所有站点的总数（不考虑起始或结束），可以合并后去重\n",
    "all_stations = pd.concat([data['start station id'], data['end station id']]).nunique()\n",
    "print(f\"Total unique stations: {all_stations}\")\n"
   ]
  },
  {
   "cell_type": "code",
   "execution_count": null,
   "id": "d43c8493-e329-4a1a-be52-0a6399d7ef6a",
   "metadata": {},
   "outputs": [],
   "source": []
  }
 ],
 "metadata": {
  "kernelspec": {
   "display_name": "Python 3 (ipykernel)",
   "language": "python",
   "name": "python3"
  },
  "language_info": {
   "codemirror_mode": {
    "name": "ipython",
    "version": 3
   },
   "file_extension": ".py",
   "mimetype": "text/x-python",
   "name": "python",
   "nbconvert_exporter": "python",
   "pygments_lexer": "ipython3",
   "version": "3.11.0"
  }
 },
 "nbformat": 4,
 "nbformat_minor": 5
}
