{
 "cells": [
  {
   "cell_type": "code",
   "execution_count": 3,
   "id": "be5b6e71-8110-4484-bf3d-b4f24de5c055",
   "metadata": {},
   "outputs": [
    {
     "name": "stdout",
     "output_type": "stream",
     "text": [
      "the number of stations only July data has: 34\n",
      "the number of stations only October data has: 28\n"
     ]
    }
   ],
   "source": [
    "with open('./stations_07.txt', 'r') as f:\n",
    "    stations_07 = f.readlines()\n",
    "\n",
    "with open('./stations_10.txt', 'r') as f:\n",
    "    stations_10 = f.readlines()\n",
    "    \n",
    "count_07_more = 0\n",
    "count_10_more = 0\n",
    "\n",
    "for item in stations_07:\n",
    "    if item not in stations_10:\n",
    "        count_07_more += 1\n",
    "        \n",
    "for item in stations_10:\n",
    "    if item not in stations_07:\n",
    "        count_10_more += 1\n",
    "\n",
    "print('the number of stations only July data has:', count_07_more)\n",
    "print('the number of stations only October data has:', count_10_more)"
   ]
  },
  {
   "cell_type": "code",
   "execution_count": null,
   "id": "e9bbcc87-14f0-4b8e-8836-379adc23c786",
   "metadata": {},
   "outputs": [],
   "source": []
  }
 ],
 "metadata": {
  "kernelspec": {
   "display_name": "Python 3 (ipykernel)",
   "language": "python",
   "name": "python3"
  },
  "language_info": {
   "codemirror_mode": {
    "name": "ipython",
    "version": 3
   },
   "file_extension": ".py",
   "mimetype": "text/x-python",
   "name": "python",
   "nbconvert_exporter": "python",
   "pygments_lexer": "ipython3",
   "version": "3.11.0"
  }
 },
 "nbformat": 4,
 "nbformat_minor": 5
}
