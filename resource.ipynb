{
 "cells": [
  {
   "cell_type": "markdown",
   "id": "48004b53-4a9a-4286-88d3-78d72f89ebfc",
   "metadata": {},
   "source": [
    "- https://c4sr.columbia.edu/projects/citibike-rebalancing-study"
   ]
  },
  {
   "cell_type": "code",
   "execution_count": null,
   "id": "6116e9f3-b72e-4a54-a883-4484e64d8075",
   "metadata": {},
   "outputs": [],
   "source": []
  }
 ],
 "metadata": {
  "kernelspec": {
   "display_name": "Python 3 (ipykernel)",
   "language": "python",
   "name": "python3"
  },
  "language_info": {
   "codemirror_mode": {
    "name": "ipython",
    "version": 3
   },
   "file_extension": ".py",
   "mimetype": "text/x-python",
   "name": "python",
   "nbconvert_exporter": "python",
   "pygments_lexer": "ipython3",
   "version": "3.8.10"
  }
 },
 "nbformat": 4,
 "nbformat_minor": 5
}
