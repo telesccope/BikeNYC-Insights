{
 "cells": [
  {
   "cell_type": "markdown",
   "id": "456315f4-376c-4bcd-b3e8-176a938cf6da",
   "metadata": {},
   "source": [
    "## Map 1: Dataset Parameter"
   ]
  },
  {
   "cell_type": "markdown",
   "id": "de1481dc-42dd-4965-93f8-f146a955f9ab",
   "metadata": {},
   "source": [
    "| Parameter Name      | Data Type   | Example Value                |\n",
    "|---------------------|-------------|------------------------------|\n",
    "| Ride ID             | String      | D86F678648E7A867             |\n",
    "| Rideable type       | String      | electric_bike                |\n",
    "| Started at          | DateTime    | 2024-09-10 22:50:16.212      |\n",
    "| Ended at            | DateTime    | 2024-09-10 23:30:44.697      |\n",
    "| Start station name  | String      | Hudson St & W 13 St          |\n",
    "| Start station ID    | Float       | 6115.06                      |\n",
    "| End station name    | String      | Broadway & W 58 St           |\n",
    "| End station ID      | Float       | 6948.10                      |\n",
    "| Start latitude      | Float       | 40.740057                    |\n",
    "| Start longitude     | Float       | -74.005274                   |\n",
    "| End latitude        | Float       | 40.766953                    |\n",
    "| End longitude       | Float       | -73.981693                   |\n",
    "| Member or casual    | String      | casual                       |\n",
    "| Ride duration       | Float       | 40.474750                    |\n"
   ]
  },
  {
   "cell_type": "markdown",
   "id": "5792c783-be1c-4455-aa2a-1d3d1cbd0daa",
   "metadata": {},
   "source": [
    "## Map 2: Analysis of basic statistics(Depends on topic to add)"
   ]
  },
  {
   "cell_type": "markdown",
   "id": "461c9e34-18ea-4b26-b725-7fb47ac479ec",
   "metadata": {},
   "source": [
    "<img src='./map/number_of_riders.png'>"
   ]
  },
  {
   "cell_type": "markdown",
   "id": "d3632f75-879d-4e17-80dd-f9e07572bea3",
   "metadata": {},
   "source": [
    "## Map 3: For NTA"
   ]
  },
  {
   "cell_type": "markdown",
   "id": "c6a01ccd-4b9d-4e11-aba9-3292774a529d",
   "metadata": {},
   "source": [
    "<img src='./map/ride_counts_by_nta.png'>"
   ]
  },
  {
   "cell_type": "markdown",
   "id": "bbae19c8-9a13-4424-aec1-64520a0492f9",
   "metadata": {},
   "source": [
    "## Map 4: Spatial auto-correlation analysis"
   ]
  },
  {
   "cell_type": "markdown",
   "id": "a3eedc70-e901-494b-8ad8-8970cafc24ad",
   "metadata": {},
   "source": [
    "<img src='./map/local_morans_i_nta.png'>"
   ]
  },
  {
   "cell_type": "markdown",
   "id": "8c7a692f-3006-4c84-9ffe-cd4055b994a0",
   "metadata": {},
   "source": [
    "## Map 5: Point pattern analysis"
   ]
  },
  {
   "cell_type": "markdown",
   "id": "dbf2e549-6ccc-4683-bdc3-d2827d7b0350",
   "metadata": {},
   "source": [
    "<img src=\"./map/ripleys_k_function.png\">"
   ]
  }
 ],
 "metadata": {
  "kernelspec": {
   "display_name": "Python 3 (ipykernel)",
   "language": "python",
   "name": "python3"
  },
  "language_info": {
   "codemirror_mode": {
    "name": "ipython",
    "version": 3
   },
   "file_extension": ".py",
   "mimetype": "text/x-python",
   "name": "python",
   "nbconvert_exporter": "python",
   "pygments_lexer": "ipython3",
   "version": "3.11.0"
  }
 },
 "nbformat": 4,
 "nbformat_minor": 5
}
