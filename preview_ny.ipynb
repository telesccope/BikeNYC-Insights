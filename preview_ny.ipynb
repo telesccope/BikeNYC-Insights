{
 "cells": [
  {
   "cell_type": "markdown",
   "id": "8991d3d5-5735-4c3c-b3c9-c1a1bc1b8ac7",
   "metadata": {},
   "source": [
    "1.直方图\n",
    "2.热力图(按区域)\n",
    "3.Moran’s I"
   ]
  }
 ],
 "metadata": {
  "kernelspec": {
   "display_name": "Python 3 (ipykernel)",
   "language": "python",
   "name": "python3"
  },
  "language_info": {
   "codemirror_mode": {
    "name": "ipython",
    "version": 3
   },
   "file_extension": ".py",
   "mimetype": "text/x-python",
   "name": "python",
   "nbconvert_exporter": "python",
   "pygments_lexer": "ipython3",
   "version": "3.8.10"
  }
 },
 "nbformat": 4,
 "nbformat_minor": 5
}
