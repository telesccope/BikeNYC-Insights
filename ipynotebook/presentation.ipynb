{
 "cells": [
  {
   "cell_type": "markdown",
   "id": "11007da9-4e2e-479f-866d-bcd1f9ffba9a",
   "metadata": {},
   "source": [
    "Citibike 数据集中有 800 个站点，我们可以看到这些站点集中在某个特定区域。也就是曼哈顿地区。"
   ]
  },
  {
   "cell_type": "code",
   "execution_count": 1,
   "id": "40971041-9ae9-425e-bcc0-d679418dd7bf",
   "metadata": {},
   "outputs": [
    {
     "data": {
      "text/html": [
       "\n",
       "        <iframe\n",
       "            width=\"800\"\n",
       "            height=\"600\"\n",
       "            src=\"map/stations_map.html\"\n",
       "            frameborder=\"0\"\n",
       "            allowfullscreen\n",
       "            \n",
       "        ></iframe>\n",
       "        "
      ],
      "text/plain": [
       "<IPython.lib.display.IFrame at 0x1031ed2d0>"
      ]
     },
     "execution_count": 1,
     "metadata": {},
     "output_type": "execute_result"
    }
   ],
   "source": [
    "from IPython.display import IFrame\n",
    "\n",
    "# 显示地图\n",
    "IFrame('map/stations_map.html', width=800, height=600)\n"
   ]
  },
  {
   "cell_type": "markdown",
   "id": "5f28be38-d8b0-4e06-b074-da6019cba3af",
   "metadata": {},
   "source": [
    "我们计算了每个站点的骑行活动量，即每条记录中从该站点出发或到达的次数。图中展示了骑行活动在各站点的分布。大多数站点的骑行活动量较低，而少数站点的使用量非常高。这些高使用量的站点可能位于交通枢纽，如地铁站，或人口密集区域。"
   ]
  },
  {
   "cell_type": "markdown",
   "id": "072f7682-2c6c-4636-9dfa-eb0cd820782d",
   "metadata": {},
   "source": [
    "<img src='./map/ride_activity_distribution.png'>"
   ]
  },
  {
   "cell_type": "markdown",
   "id": "bc0c92e0-dcc8-4f9f-8e36-8eb1d7e93fa4",
   "metadata": {},
   "source": [
    "这是 Citibike 数据集的情况。接下来是 Census Tracts。Census Tracts 设计为包含大约 1200 到 8000人的区域，这些区域的界限通常沿着明显的地理特征或城市街道划分。纽约市被划分为2325 个 Census Tracts，其中 441 个有 Citibike 的数据。每个 Census Tract 内站点的分布如图所示。大多数普查区的站点数量集中在 1 到 2 个，说明站点分布符合普查区的人口密度和需求。"
   ]
  },
  {
   "cell_type": "markdown",
   "id": "80711888-cc5a-42b5-ac7a-325bc11fc61a",
   "metadata": {},
   "source": [
    "<img src=\"./map/station_and_census_distribution.png\">"
   ]
  },
  {
   "cell_type": "markdown",
   "id": "bfe5c089-ca2b-4339-809e-5e8d732ab929",
   "metadata": {},
   "source": [
    "对于这 441 个有 Citibike 记录的 Census Tracts，其内的总骑行活动分布如图所示。骑行数据受到一些高值，也就是交通枢纽等人口稠密区的影响，导致数据分布不均匀。"
   ]
  },
  {
   "cell_type": "markdown",
   "id": "30784637-eaa9-492f-aea7-93517f752a8d",
   "metadata": {},
   "source": [
    "<img src=\"./map/census_ride_activity_distribution.png\">"
   ]
  },
  {
   "cell_type": "markdown",
   "id": "bf466649-9957-404a-98b7-68c53819a750",
   "metadata": {},
   "source": [
    "3. census cover ride activity\n",
    "将骑行活动展示在地图上，可以看到，曼哈顿中部和下城的 Citibike 骑行活动最为频繁，显示出这些地区的高交通需求。相比之下，浅黄色区域表示骑行次数较少，远低于深色区域。"
   ]
  },
  {
   "cell_type": "markdown",
   "id": "3ce48a66-0f57-42d2-9a40-778397878bcc",
   "metadata": {},
   "source": [
    "<img src=\"./map/citibike_ride_activity_census_tract.png\">"
   ]
  },
  {
   "cell_type": "markdown",
   "id": "17d04965-2f87-44c6-9805-a99fc3175b68",
   "metadata": {},
   "source": [
    "通过结合这两个数据集，我们进行了空间自相关分析。首先，来看 Global Moran's I 分析结果\n",
    "| Metric                             | Value      |\n",
    "|------------------------------------|------------|\n",
    "| Moran I Statistic                  | 0.446      |\n",
    "| Expectation                        | -0.0023    |\n",
    "| Variance                           | 0.000919   |\n",
    "| Moran I Statistic Standard Deviate | 14.787     |\n",
    "| P-value                            | < 2.2e-16  |\n",
    "| Alternative Hypothesis             | Greater    |\n",
    "\n",
    "该分析表明，纽约市 Citibike 骑行活动具有显著的正空间自相关。Moran's I 值为 0.446，远高于理论期望值 -0.0023，且标准化偏差为 14.787，结果显著。极小的 p 值（< 2.2e-16）进一步支持了正空间自相关的假设，表明相邻区域的骑行活动具有相似性。”\n",
    "\n",
    "接下来是局部 Moran's I 的计算。颜色从蓝色到红色表示空间自相关的强度。红色区域表示高聚集度，即这些区域的骑行次数显著高于周围地区。相反，蓝色区域则表示较低的骑行活动。总体来看，曼哈顿地区显示出更高的骑行活跃度。"
   ]
  },
  {
   "cell_type": "markdown",
   "id": "0eb7fc7b-a35b-4d7c-b17e-546aadbe1e69",
   "metadata": {},
   "source": [
    "<img src=\"./map/local_morans_I_citibike.png\">"
   ]
  },
  {
   "cell_type": "markdown",
   "id": "0635764b-03f9-4be5-b9b8-33f2d4f316ff",
   "metadata": {},
   "source": [
    "然后进行了统计显著性检验。这张地图展示了纽约市 Citibike 骑行活动的空间自相关显著性结果。主要在曼哈顿中部和下部显示出高显著性水平（红色和橙色区域），表明这些地区的骑行活动具有显著的空间聚集性，而其他区域则不显著（灰色），显示出骑行活动的空间分布不均。"
   ]
  },
  {
   "cell_type": "markdown",
   "id": "24c3e411-782b-4b82-abf7-ca5acf590e21",
   "metadata": {},
   "source": [
    "<img src=\"./map/local_morans_I_significance.png\">"
   ]
  },
  {
   "cell_type": "markdown",
   "id": "f0061c5d-608b-4fab-ad42-6b45fea5e9b3",
   "metadata": {},
   "source": [
    "接下来是 Local Indicators of Spatial Association (LISA) 地图。我们识别出显著的高值聚集区域（标记为黄色），这些区域表示高骑行活动量被同样高活动量的邻近区域包围。”"
   ]
  },
  {
   "cell_type": "markdown",
   "id": "1a999832-9e1b-489d-8566-e5a63797ead5",
   "metadata": {},
   "source": [
    "<img src=\"./map/local_morans_I_cluster_types.png\">"
   ]
  },
  {
   "cell_type": "markdown",
   "id": "2311a37b-7d5d-4847-92ed-aac4b7b7e43f",
   "metadata": {},
   "source": [
    "| Metric          | Value  |\n",
    "|-----------------|--------|\n",
    "| Min.            | 1      |\n",
    "| 1st Qu.         | 2240   |\n",
    "| Median          | 5417   |\n",
    "| Mean            | 9891   |\n",
    "| 3rd Qu.         | 12189  |\n",
    "| Max.            | 131506 |"
   ]
  },
  {
   "cell_type": "markdown",
   "id": "8f125e0b-c87e-4f8c-955c-f71a4b789d84",
   "metadata": {},
   "source": [
    "有趣的是，结果显示并没有出现“Low-Low”或“High-Low”的 Census Tracts。这可以通过骑行活动数据的分布来解释：骑行活动数据的平均值被极端值拉高，导致主要识别出“High-High”聚集类型。"
   ]
  }
 ],
 "metadata": {
  "kernelspec": {
   "display_name": "Python 3 (ipykernel)",
   "language": "python",
   "name": "python3"
  },
  "language_info": {
   "codemirror_mode": {
    "name": "ipython",
    "version": 3
   },
   "file_extension": ".py",
   "mimetype": "text/x-python",
   "name": "python",
   "nbconvert_exporter": "python",
   "pygments_lexer": "ipython3",
   "version": "3.11.0"
  }
 },
 "nbformat": 4,
 "nbformat_minor": 5
}
