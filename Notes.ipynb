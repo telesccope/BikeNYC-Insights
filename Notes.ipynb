{
 "cells": [
  {
   "cell_type": "markdown",
   "id": "aacfb21a-e4ee-4cce-a8b9-292747c9018b",
   "metadata": {},
   "source": [
    "## 全局值\n",
    "\n",
    "## Moran's I\n",
    "空间自相关指标，观测值如何在空间上聚集\n",
    "\n",
    "## Geary'C\n",
    "同Moran's I，但对局部的差异更敏感\n",
    "\n",
    "## Global G\n",
    "专注于高值或低值的聚集，帮助识别热点和冷点\n",
    "\n",
    "## Getis and Ord's G\n",
    "专注于识别多种局部模式的情况"
   ]
  },
  {
   "cell_type": "markdown",
   "id": "7c530793-36ea-45b4-8d45-6a009b9827f2",
   "metadata": {},
   "source": [
    "## 局部值\n",
    "\n",
    "## LISA(Local Moran's I)\n",
    "对Moran's I的局部分解,热点分析,检测空间异质性,识别多种局部特征\n",
    "\n",
    "## Getis and Ord’s G\n"
   ]
  }
 ],
 "metadata": {
  "kernelspec": {
   "display_name": "Python 3 (ipykernel)",
   "language": "python",
   "name": "python3"
  },
  "language_info": {
   "codemirror_mode": {
    "name": "ipython",
    "version": 3
   },
   "file_extension": ".py",
   "mimetype": "text/x-python",
   "name": "python",
   "nbconvert_exporter": "python",
   "pygments_lexer": "ipython3",
   "version": "3.8.10"
  }
 },
 "nbformat": 4,
 "nbformat_minor": 5
}
