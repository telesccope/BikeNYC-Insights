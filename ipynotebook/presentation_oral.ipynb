{
 "cells": [
  {
   "cell_type": "markdown",
   "id": "11007da9-4e2e-479f-866d-bcd1f9ffba9a",
   "metadata": {},
   "source": [
    "The Citibike dataset has 800 stations. We can see these stations are concentrated in a specific area, which is Manhattan."
   ]
  },
  {
   "cell_type": "code",
   "execution_count": 1,
   "id": "40971041-9ae9-425e-bcc0-d679418dd7bf",
   "metadata": {},
   "outputs": [
    {
     "data": {
      "text/html": [
       "\n",
       "        <iframe\n",
       "            width=\"800\"\n",
       "            height=\"600\"\n",
       "            src=\"../map/stations_map.html\"\n",
       "            frameborder=\"0\"\n",
       "            allowfullscreen\n",
       "            \n",
       "        ></iframe>\n",
       "        "
      ],
      "text/plain": [
       "<IPython.lib.display.IFrame at 0x104089810>"
      ]
     },
     "execution_count": 1,
     "metadata": {},
     "output_type": "execute_result"
    }
   ],
   "source": [
    "from IPython.display import IFrame\n",
    "\n",
    "# 显示地图\n",
    "IFrame('../map/stations_map.html', width=800, height=600)\n"
   ]
  },
  {
   "cell_type": "markdown",
   "id": "5f28be38-d8b0-4e06-b074-da6019cba3af",
   "metadata": {},
   "source": [
    "We counted the ride activity for each station.\n",
    "Ride activity means a ride starts or ends in this station. \n",
    "The chart shows the ride activity distribution across stations. Most stations have low activity, but a few have very high figure. "
   ]
  },
  {
   "cell_type": "markdown",
   "id": "072f7682-2c6c-4636-9dfa-eb0cd820782d",
   "metadata": {},
   "source": [
    "<img src='../map/ride_activity_distribution.png'>"
   ]
  },
  {
   "cell_type": "markdown",
   "id": "bc0c92e0-dcc8-4f9f-8e36-8eb1d7e93fa4",
   "metadata": {},
   "source": [
    "Next, we have Census Tracts. New York City is divided into 2,325 Census Tracts, and 441 of them have Citibike data. "
   ]
  },
  {
   "cell_type": "markdown",
   "id": "bf466649-9957-404a-98b7-68c53819a750",
   "metadata": {},
   "source": [
    "This map shows the citibike ride activity by census tract.  \n",
    "It's clear that Citibike rides are most frequent in the central and lower parts of Manhattan.\n",
    "In contrast, the light yellow areas represent fewer rides."
   ]
  },
  {
   "cell_type": "markdown",
   "id": "3ce48a66-0f57-42d2-9a40-778397878bcc",
   "metadata": {},
   "source": [
    "<img src=\"../map/citibike_ride_activity_census_tract.png\">"
   ]
  },
  {
   "cell_type": "markdown",
   "id": "a89ce10e-4783-4fbf-af80-2d5961040447",
   "metadata": {},
   "source": [
    "The right figure shows the ride activity data is not distributed. It has some extremly high values"
   ]
  },
  {
   "cell_type": "markdown",
   "id": "1778a32b-f0c0-47db-ae6f-00131158f56b",
   "metadata": {},
   "source": [
    "Through this way, we combined these two datasets.\n",
    "Then we conducted a spatial autocorrelation analysis."
   ]
  },
  {
   "cell_type": "markdown",
   "id": "a5549ee9-d711-4be6-bf53-d64a041fb8f9",
   "metadata": {},
   "source": [
    "First is the Local Moran's I. \n",
    "The colors range from blue to red, indicating the intensity of spatial autocorrelation. \n",
    "Red areas represent high clusters, which means these areas have significantly higher ride activity than their neghbors. \n",
    "Blue areas indicate lower ride activity. "
   ]
  },
  {
   "cell_type": "markdown",
   "id": "0eb7fc7b-a35b-4d7c-b17e-546aadbe1e69",
   "metadata": {},
   "source": [
    "<img src=\"./map/local_morans_I_citibike.png\">"
   ]
  },
  {
   "cell_type": "markdown",
   "id": "0635764b-03f9-4be5-b9b8-33f2d4f316ff",
   "metadata": {},
   "source": [
    "Then, we conducted a significance test. \n",
    "This map shows the significance results of Local Moran's I. \n",
    "In central and lower parts of Manhattan, there has high significance levels. \n",
    "we can conclude that there are significant spatial clusters in this area."
   ]
  },
  {
   "cell_type": "markdown",
   "id": "24c3e411-782b-4b82-abf7-ca5acf590e21",
   "metadata": {},
   "source": [
    "<img src=\"./map/local_morans_I_significance.png\">"
   ]
  },
  {
   "cell_type": "markdown",
   "id": "f0061c5d-608b-4fab-ad42-6b45fea5e9b3",
   "metadata": {},
   "source": [
    "Next is the Local Indicators of Spatial Association (LISA) map. We identified significant high-value clusters (marked in yellow), indicating areas with high ride activity surrounded by high activity."
   ]
  },
  {
   "cell_type": "markdown",
   "id": "1a999832-9e1b-489d-8566-e5a63797ead5",
   "metadata": {},
   "source": [
    "<img src=\"./map/local_morans_I_cluster_types.png\">"
   ]
  },
  {
   "cell_type": "markdown",
   "id": "aeeaa021-f2d2-4bd6-9d83-910de3063a8d",
   "metadata": {},
   "source": [
    "It is interesting the results show no \"Low-Low\" or \"High-Low\" area. \n",
    "This can be explained by the distribution of ride activity data. \n",
    "The mean is 9891, which is much greater than the median of 5417.\n",
    "Extreme values make it easier to identify as \"High-High\" clusters."
   ]
  },
  {
   "cell_type": "markdown",
   "id": "2311a37b-7d5d-4847-92ed-aac4b7b7e43f",
   "metadata": {},
   "source": [
    "| Metric          | Value  |\n",
    "|-----------------|--------|\n",
    "| Min.            | 1      |\n",
    "| 1st Qu.         | 2240   |\n",
    "| Median          | 5417   |\n",
    "| Mean            | 9891   |\n",
    "| 3rd Qu.         | 12189  |\n",
    "| Max.            | 131506 |"
   ]
  }
 ],
 "metadata": {
  "kernelspec": {
   "display_name": "Python 3 (ipykernel)",
   "language": "python",
   "name": "python3"
  },
  "language_info": {
   "codemirror_mode": {
    "name": "ipython",
    "version": 3
   },
   "file_extension": ".py",
   "mimetype": "text/x-python",
   "name": "python",
   "nbconvert_exporter": "python",
   "pygments_lexer": "ipython3",
   "version": "3.11.0"
  }
 },
 "nbformat": 4,
 "nbformat_minor": 5
}
