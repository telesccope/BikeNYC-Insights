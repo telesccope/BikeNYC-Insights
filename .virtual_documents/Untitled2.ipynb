library(sf)
library(tmap)
library(tmaptools)
library(dplyr)
library(lubridate)
library(ggplot2)
library(gstat)
library(sp)


# Read the census shapefile
census <- st_read(dsn="./data/nyc2020_census/nyct2020.shp", layer="nyct2020")

# Load the population csv data
population <- read.csv("./data/nyc_censusdata_2020.csv")
population$BCT2020 <- as.character(population$BCT2020)

# Join population data to census data
census_joined <- census %>%
  left_join(population, by= c("BoroCT2020"="BCT2020"))

# Plot census polygons
plot(census_joined["CT2020"])

# Load Citibike data
citibike_oct_1 <- read.csv("./data/2019-citibike-tripdata/10_October/201910-citibike-tripdata_1.csv")
citibike_oct_2 <- read.csv("./data/2019-citibike-tripdata/10_October/201910-citibike-tripdata_2.csv")
citibike_oct_3 <- read.csv("./data/2019-citibike-tripdata/10_October/201910-citibike-tripdata_3.csv")

# Bind rows for October data
citibike_oct <- bind_rows(citibike_oct_1, citibike_oct_2, citibike_oct_3)

# Repeat for January data
citibike_jan <- read.csv("./data/2019-citibike-tripdata/1_January/201901-citibike-tripdata_1.csv")

# Load Citibike data
citibike_july_1 <- read.csv("./data/2019-citibike-tripdata/7_July/201907-citibike-tripdata_1.csv")
citibike_july_2 <- read.csv("./data/2019-citibike-tripdata/7_July/201907-citibike-tripdata_2.csv")
citibike_july_3 <- read.csv("./data/2019-citibike-tripdata/7_July/201907-citibike-tripdata_3.csv")

# Bind rows for October data
citibike_july <- bind_rows(citibike_july_1, citibike_july_2, citibike_july_3)


# 加载 janitor 包
library(janitor)

# 修改列名为 snake_case
citibike_jan <- citibike_jan %>% clean_names()
citibike_july <- citibike_july %>% clean_names()
citibike_oct <- citibike_oct %>% clean_names()

# 查看修改后的列名
print(colnames(citibike_july))



# 统计 1 月份的 ride_activity 数据
station_jan <- citibike_jan %>%
  group_by(start_station_id, start_station_latitude, start_station_longitude) %>%
  summarise(ride_start_count = n(), .groups = "drop") %>%
  rename(station_id = start_station_id, station_lat = start_station_latitude, station_lng = start_station_longitude)

end_station_jan <- citibike_jan %>%
  group_by(end_station_id, end_station_latitude, end_station_longitude) %>%
  summarise(ride_end_count = n(), .groups = "drop") %>%
  rename(station_id = end_station_id, station_lat = end_station_latitude, station_lng = end_station_longitude)

# 分别统计起点和终点的骑行次数，并计算总的 ride_activity
station_jan <- station_jan %>%
  full_join(end_station_jan, by = c("station_id", "station_lat", "station_lng")) %>%
  mutate(
    ride_start_count = ifelse(is.na(ride_start_count), 0, ride_start_count),
    ride_end_count = ifelse(is.na(ride_end_count), 0, ride_end_count),
    ride_activity = ride_start_count + ride_end_count
  ) %>%
  select(station_id, station_lat, station_lng, ride_activity) # 仅保留所需列

# 统计 10 月份的 ride_activity 数据
station_oct <- citibike_oct %>%
  group_by(start_station_id, start_station_latitude, start_station_longitude) %>%
  summarise(ride_start_count = n(), .groups = "drop") %>%
  rename(station_id = start_station_id, station_lat = start_station_latitude, station_lng = start_station_longitude)

end_station_oct <- citibike_oct %>%
  group_by(end_station_id, end_station_latitude, end_station_longitude) %>%
  summarise(ride_end_count = n(), .groups = "drop") %>%
  rename(station_id = end_station_id, station_lat = end_station_latitude, station_lng = end_station_longitude)

# 分别统计起点和终点的骑行次数，并计算总的 ride_activity
station_oct <- station_oct %>%
  full_join(end_station_oct, by = c("station_id", "station_lat", "station_lng")) %>%
  mutate(
    ride_start_count = ifelse(is.na(ride_start_count), 0, ride_start_count),
    ride_end_count = ifelse(is.na(ride_end_count), 0, ride_end_count),
    ride_activity = ride_start_count + ride_end_count
  ) %>%
  select(station_id, station_lat, station_lng, ride_activity) # 仅保留所需列

# 统计 7 月份的 ride_activity 数据
station_july <- citibike_july %>%
  group_by(start_station_id, start_station_latitude, start_station_longitude) %>%
  summarise(ride_start_count = n(), .groups = "drop") %>%
  rename(station_id = start_station_id, station_lat = start_station_latitude, station_lng = start_station_longitude)

end_station_july <- citibike_july %>%
  group_by(end_station_id, end_station_latitude, end_station_longitude) %>%
  summarise(ride_end_count = n(), .groups = "drop") %>%
  rename(station_id = end_station_id, station_lat = end_station_latitude, station_lng = end_station_longitude)

# 分别统计起点和终点的骑行次数，并计算总的 ride_activity
station_july <- station_july %>%
  full_join(end_station_july, by = c("station_id", "station_lat", "station_lng")) %>%
  mutate(
    ride_start_count = ifelse(is.na(ride_start_count), 0, ride_start_count),
    ride_end_count = ifelse(is.na(ride_end_count), 0, ride_end_count),
    ride_activity = ride_start_count + ride_end_count
  ) %>%
  select(station_id, station_lat, station_lng, ride_activity) # 仅保留所需列


station_jan_sf <- station_jan %>%
  st_as_sf(coords = c("station_lng", "station_lat"), crs=4326, remove=FALSE)
station_july_sf <- station_july %>%
  st_as_sf(coords = c("station_lng", "station_lat"), crs=4326, remove=FALSE)
station_oct_sf <- station_oct %>%
  st_as_sf(coords = c("station_lng", "station_lat"), crs=4326, remove=FALSE)
station_jan_sf <- st_transform(station_jan_sf, st_crs(census_joined))
station_july_sf <- st_transform(station_july_sf, st_crs(census_joined))
station_oct_sf <- st_transform(station_oct_sf, st_crs(census_joined))





# Creating an aggregated station dataset at census tract level
station_oct_nyc <- station_oct_sf %>%
  # Left join to remove stations outside NYC (do not have census tract)
  st_join(census_joined, join= st_within, left=FALSE)
ct_station_oct <- station_oct_nyc %>%
  group_by(BoroCT2020) %>%
  summarise(
    num_stations = n(),
    total_ride_activity = sum(ride_activity, na.rm=TRUE),
      )

# Converting to df to allow for inner join and drop column for polygons without Citibike docks
ct_station_oct_df <- as.data.frame(ct_station_oct)
agg_citibike_oct <- census_joined %>%
  inner_join(ct_station_oct_df, by= "BoroCT2020")


# Creating an aggregated station dataset at census tract level
station_july_nyc <- station_july_sf %>%
  # Left join to remove stations outside NYC (do not have census tract)
  st_join(census_joined, join= st_within, left=FALSE)
ct_station_july <- station_july_nyc %>%
  group_by(BoroCT2020) %>%
  summarise(
    num_stations = n(),
    total_ride_activity = sum(ride_activity, na.rm=TRUE),
      )

# Converting to df to allow for inner join and drop column for polygons without Citibike docks
ct_station_july_df <- as.data.frame(ct_station_july)
agg_citibike_july <- census_joined %>%
  inner_join(ct_station_july_df, by= "BoroCT2020")


# Creating an aggregated station dataset at census tract level
station_jan_nyc <- station_jan_sf %>%
  # Left join to remove stations outside NYC (do not have census tract)
  st_join(census_joined, join= st_within, left=FALSE)
ct_station_jan <- station_jan_nyc %>%
  group_by(BoroCT2020) %>%
  summarise(
    num_stations = n(),
    total_ride_activity = sum(ride_activity, na.rm=TRUE),
      )

# Converting to df to allow for inner join and drop column for polygons without Citibike docks
ct_station_jan_df <- as.data.frame(ct_station_jan)
agg_citibike_jan <- census_joined %>%
  inner_join(ct_station_jan_df, by= "BoroCT2020")


library(tmap)

# 单个地图示例
map_jan <- tm_shape(census_joined) +
  tm_borders(col = "white") +
  tm_fill(col = "lightgrey") +
  tm_shape(agg_citibike_jan) +
  tm_polygons(col = "total_ride_activity",
              style = "quantile",
              palette = "YlOrRd",
              title = "Total Ride Start Count") +
  tm_layout(title = "Citibike Ride Activity (Jan 2019)",
            title.position = c("left", "top"),
            legend.position = c("left", "top"),
            legend.outside = FALSE,
            frame = FALSE)
# 七月地图
map_july <- tm_shape(census_joined) +
  tm_borders(col = "white") +
  tm_fill(col = "lightgrey") +
  tm_shape(agg_citibike_july) +
  tm_polygons(col = "total_ride_activity",
              style = "quantile",
              palette = "YlOrRd",
              title = "Total Ride Start Count") +
  tm_layout(title = "Citibike Ride Activity (July 2019)",
            title.position = c("left", "top"),
            legend.position = c("left", "top"),
            legend.outside = FALSE,
            frame = FALSE)

# 十月地图
map_oct <- tm_shape(census_joined) +
  tm_borders(col = "white") +
  tm_fill(col = "lightgrey") +
  tm_shape(agg_citibike_oct) +
  tm_polygons(col = "total_ride_activity",
              style = "quantile",
              palette = "YlOrRd",
              title = "Total Ride Start Count") +
  tm_layout(title = "Citibike Ride Activity (Oct 2019)",
            title.position = c("left", "top"),
            legend.position = c("left", "top"),
            legend.outside = FALSE,
            frame = FALSE)



# 横向排列三个地图
tmap_arrange(map_jan, map_july, map_oct, ncol = 3)
tmap_save(tmap_arrange(map_jan, map_july, map_oct, ncol = 3), "citibike_maps.png", width = 12, height = 4)


library(spdep)  # 用于空间权重矩阵和空间统计
library(sf)     # 用于处理空间数据



library(sf)
library(spdep)

# 定义函数
calculate_moran_poly2nb <- function(agg_sf, value_col) {
  # 检查输入
  if (!inherits(agg_sf, "sf")) {
    stop("Input data must be an sf object.")
  }
  if (!value_col %in% colnames(agg_sf)) {
    stop("The specified value column does not exist in the sf object.")
  }
  
  # 提取目标变量
  values <- agg_sf[[value_col]]
  
  # 1. 创建邻接列表（基于聚合后的多边形边界）
  nb <- poly2nb(agg_sf)
  
  # 2. 转换为权重矩阵（矩阵形式）
  W <- nb2mat(nb, style = "W", zero.policy = TRUE)
  colnames(W) <- rownames(W) <- row.names(agg_sf)
  
  # 3. 转换为权重列表（listw 格式，用于 Moran's I 计算）
  Wl <- nb2listw(nb, style = "W", zero.policy = TRUE)
  
  # 4. 计算 Moran's I
  moran_result <- moran.test(values, Wl, zero.policy = TRUE)
  
  # 输出结果
  cat("Moran's I:", moran_result$estimate["Moran I"], "\n")
  cat("Expected I:", moran_result$estimate["Expectation"], "\n")
  cat("Variance:", moran_result$estimate["Variance"], "\n")
  cat("p-value:", moran_result$p.value, "\n")
  
  # 返回结果
  return(list(
    W_matrix = W,
    W_listw = Wl,
    moran_test = moran_result
  ))
}



result_jan <- calculate_moran_poly2nb(agg_citibike_jan, value_col = "total_ride_activity")


# 查看 Moran's I 统计结果
print(result_jan$moran_test)

result_july <- calculate_moran_poly2nb(agg_citibike_july, value_col = "total_ride_activity")


# 查看 Moran's I 统计结果
print(result_july$moran_test)

result_oct <- calculate_moran_poly2nb(agg_citibike_oct, value_col = "total_ride_activity")


# 查看 Moran's I 统计结果
print(result_oct$moran_test)



library(sf)
library(spdep)

# 定义函数
calculate_local_moran <- function(agg_sf, value_col, snap = 0) {
  # 检查输入
  if (!inherits(agg_sf, "sf")) {
    stop("Input data must be an sf object.")
  }
  if (!value_col %in% colnames(agg_sf)) {
    stop("The specified value column does not exist in the sf object.")
  }
  
  # 提取目标变量
  values <- agg_sf[[value_col]]
  
  # 1. 创建邻接列表（基于多边形边界，增加 snap 参数）
  nb <- poly2nb(agg_sf, snap = snap)
  
  # 检查是否有孤立单元
  if (any(card(nb) == 0)) {
    warning("Some observations have no neighbours. These will be excluded from the analysis.")
  }
  
  # 2. 转换为权重列表（listw 格式，用于 Moran's I 计算）
  Wl <- nb2listw(nb, style = "W", zero.policy = TRUE)
  
  # 3. 计算局部 Moran's I
  local_moran_result <- localmoran(values, Wl, zero.policy = TRUE)
  
  # 打印列名，供调试使用
  cat("Local Moran's I result columns:", colnames(local_moran_result), "\n")
  
  # 4. 将结果添加到 sf 对象中
  agg_sf$local_moran_I <- local_moran_result[, "Ii"]                 # 局部 Moran's I 值
  agg_sf$local_moran_p <- local_moran_result[, "Pr(z != E(Ii))"]     # 双尾 p 值
  
  # 输出结果
  cat("Local Moran's I 已计算完成，并添加到 sf 对象中。\n")
  
  # 返回结果
  return(list(
    agg_sf = agg_sf,
    local_moran_result = local_moran_result
  ))
}






result_jan <- calculate_local_moran(agg_citibike_jan, value_col = "total_ride_activity")

# 提取更新后的 sf 对象
agg_citibike_jan_with_moran <- result_jan$agg_sf


result_july <- calculate_local_moran(agg_citibike_july, value_col = "total_ride_activity")

# 提取更新后的 sf 对象
agg_citibike_july_with_moran <- result_july$agg_sf


result_oct <- calculate_local_moran(agg_citibike_oct, value_col = "total_ride_activity")

# 提取更新后的 sf 对象
agg_citibike_oct_with_moran <- result_oct$agg_sf




library(tmap)

# 创建每个月的局部 Moran's I 地图
map_jan <- tm_shape(agg_citibike_jan_with_moran) +
  tm_polygons(
    col = "local_moran_I",
    palette = "-RdBu",
    style = "quantile",
    title = "Local Moran's I (Jan)"
  ) +
  tm_layout(
    main.title.size = 1.2
  )

map_july <- tm_shape(agg_citibike_july_with_moran) +
  tm_polygons(
    col = "local_moran_I",
    palette = "-RdBu",
    style = "quantile",
    title = "Local Moran's I (July)"
  ) +
  tm_layout(
    main.title.size = 1.2
  )

map_oct <- tm_shape(agg_citibike_oct_with_moran) +
  tm_polygons(
    col = "local_moran_I",
    palette = "-RdBu",
    style = "quantile",
    title = "Local Moran's I (Oct)"
  ) +
  tm_layout(
    main.title.size = 1.2
  )

# 将三个地图横向排布
combined_map <- tmap_arrange(map_jan, map_july, map_oct, ncol = 3)

# 保存为 PNG 文件
tmap_save(combined_map, filename = "local_moran_comparison.png", width = 12, height = 4, units = "in", dpi = 300)



library(spdep)  # 用于空间权重矩阵和 Moran's I 计算

# 创建邻接列表和权重矩阵的函数
create_weights <- function(agg_sf, snap = 0.01) {
  # 1. 创建邻接列表
  nb <- poly2nb(agg_sf, snap = snap)
  
  # 检查是否有孤立单元
  if (any(card(nb) == 0)) {
    warning("Some observations have no neighbours. These will be excluded from the analysis.")
  }
  
  # 2. 转换为权重列表
  Wl <- nb2listw(nb, style = "W", zero.policy = TRUE)
  return(Wl)
}

# 为每个月创建权重矩阵
Wl_jan <- create_weights(agg_citibike_jan_with_moran)
Wl_july <- create_weights(agg_citibike_july_with_moran)
Wl_oct <- create_weights(agg_citibike_oct_with_moran)

# Moran 散点图绘制函数
plot_moran <- function(data, Wl, value_col, title) {
  moran.plot(
    data[[value_col]],
    Wl,
    xlab = "Total Ride Start Count",
    ylab = "Spatially Lagged Ride Start Count",
    labels = data$NTAName,  # 替换为区域名称列
    main = title
  )
}

# 保存为 PNG 文件
png("moran_scatterplots.png", width = 1200, height = 800)

# 设置图形布局：1 行 3 列
par(mfrow = c(1, 3))  # 1 行 3 列布局

# 绘制 1 月散点图
plot_moran(
  agg_citibike_jan_with_moran,
  Wl_jan,
  value_col = "total_ride_activity",
  title = "Moran Scatterplot (January)"
)

# 绘制 7 月散点图
plot_moran(
  agg_citibike_july_with_moran,
  Wl_july,
  value_col = "total_ride_activity",
  title = "Moran Scatterplot (July)"
)

# 绘制 10 月散点图
plot_moran(
  agg_citibike_oct_with_moran,
  Wl_oct,
  value_col = "total_ride_activity",
  title = "Moran Scatterplot (October)"
)

# 关闭图形设备
dev.off()




