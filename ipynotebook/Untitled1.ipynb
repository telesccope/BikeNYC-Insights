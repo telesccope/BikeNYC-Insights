{
 "cells": [
  {
   "cell_type": "code",
   "execution_count": 1,
   "id": "56d759ca-6868-4df6-8a8f-6daac29b86af",
   "metadata": {},
   "outputs": [
    {
     "name": "stderr",
     "output_type": "stream",
     "text": [
      "Linking to GEOS 3.11.0, GDAL 3.5.3, PROJ 9.1.0; sf_use_s2() is TRUE\n",
      "\n",
      "Breaking News: tmap 3.x is retiring. Please test v4, e.g. with\n",
      "remotes::install_github('r-tmap/tmap')\n",
      "\n",
      "\n",
      "载入程序包：‘dplyr’\n",
      "\n",
      "\n",
      "The following objects are masked from ‘package:stats’:\n",
      "\n",
      "    filter, lag\n",
      "\n",
      "\n",
      "The following objects are masked from ‘package:base’:\n",
      "\n",
      "    intersect, setdiff, setequal, union\n",
      "\n",
      "\n",
      "\n",
      "载入程序包：‘lubridate’\n",
      "\n",
      "\n",
      "The following objects are masked from ‘package:base’:\n",
      "\n",
      "    date, intersect, setdiff, union\n",
      "\n",
      "\n"
     ]
    },
    {
     "name": "stdout",
     "output_type": "stream",
     "text": [
      "Reading layer `nyct2020' from data source \n",
      "  `/Users/jiazhuangfeng/Documents/project/spatial_analysis/assignment/data/nyc2020_census/nyct2020.shp' \n",
      "  using driver `ESRI Shapefile'\n",
      "Simple feature collection with 2325 features and 14 fields\n",
      "Geometry type: MULTIPOLYGON\n",
      "Dimension:     XY\n",
      "Bounding box:  xmin: 913175.1 ymin: 120128.4 xmax: 1067383 ymax: 272844.3\n",
      "Projected CRS: NAD83 / New York Long Island (ftUS)\n"
     ]
    },
    {
     "name": "stderr",
     "output_type": "stream",
     "text": [
      "\u001b[1m\u001b[22m`summarise()` has grouped output by 'start.station.id', 'start.station.latitude'. You can override using the `.groups` argument.\n",
      "\u001b[1m\u001b[22m`summarise()` has grouped output by 'end.station.id', 'end.station.latitude'. You can override using the `.groups` argument.\n"
     ]
    }
   ],
   "source": [
    "library(sf)\n",
    "library(tmap)\n",
    "library(tmaptools)\n",
    "library(dplyr)\n",
    "library(lubridate)\n",
    "library(ggplot2)\n",
    "library(gstat)\n",
    "library(sp)\n",
    "\n",
    "# Create map directory if it doesn't exist\n",
    "if (!dir.exists(\"./map\")) {\n",
    "  dir.create(\"./map\")\n",
    "}\n",
    "\n",
    "# Read the census shapefile\n",
    "census <- st_read(dsn=\"./data/nyc2020_census/nyct2020.shp\", layer=\"nyct2020\")\n",
    "\n",
    "# Load the population csv data\n",
    "population <- read.csv(\"./data/nyc_censusdata_2020.csv\")\n",
    "population$BCT2020 <- as.character(population$BCT2020)\n",
    "\n",
    "# Join population data to census data\n",
    "census_joined <- census %>%\n",
    "  left_join(population, by= c(\"BoroCT2020\"=\"BCT2020\"))\n",
    "\n",
    "# Filter out Staten Island\n",
    "census_joined <- census_joined %>%\n",
    "  filter(BoroName != \"Staten Island\")\n",
    "\n",
    "\n",
    "# Load Citibike data\n",
    "citibike_1 <- read.csv(\"./data/2019-citibike-tripdata/7_July/201907-citibike-tripdata_1.csv\")\n",
    "citibike_2 <- read.csv(\"./data/2019-citibike-tripdata/7_July/201907-citibike-tripdata_2.csv\")\n",
    "citibike_3 <- read.csv(\"./data/2019-citibike-tripdata/7_July/201907-citibike-tripdata_3.csv\")\n",
    "\n",
    "citibike_july <- bind_rows(citibike_1, citibike_2, citibike_3)\n",
    "\n",
    "# Convert starttime and stoptime into DateTime format\n",
    "citibike_july$starttime <- ymd_hms(citibike_july$starttime)\n",
    "citibike_july$stoptime <- ymd_hms(citibike_july$stoptime)\n",
    "\n",
    "# Cleaning up for weekday/weekend and hour information\n",
    "citibike_july <- citibike_july %>%\n",
    "  mutate(\n",
    "    # Weekday or weekend\n",
    "    is_weekend = ifelse(wday(starttime) %in% c(1,7), TRUE, FALSE),\n",
    "    # Start time hour\n",
    "    start_hour = hour(starttime)\n",
    "  )\n",
    "\n",
    "# Create the station dataset with attributes on station id/lat/long, ride counts, user counts and time-based counts\n",
    "start_station_july <- citibike_july %>%\n",
    "  # Group by start.station and user type\n",
    "  group_by(start.station.id, start.station.latitude, start.station.longitude) %>%\n",
    "  summarise(\n",
    "    ride_start_count = n(),\n",
    "    usertype_subscriber_count = sum(usertype == \"Subscriber\"),\n",
    "    usertype_customer_count = sum(usertype == \"Customer\"),\n",
    "    \n",
    "    # Weekday counts for time intervals AM/PM Peak/Off-Peak - ref Liu et al\n",
    "    ride_start_weekday_7_10 = sum(!is_weekend & start_hour>=7 & start_hour<10),\n",
    "    ride_start_weekday_10_17 = sum(!is_weekend & start_hour>=10 & start_hour<17),\n",
    "    ride_start_weekday_17_0 = sum(!is_weekend & start_hour>=17 & start_hour<24),\n",
    "    ride_start_weekday_0_7 = sum(!is_weekend & start_hour>=0 & start_hour<7),\n",
    "    \n",
    "    # Weekend counts for leisure/others - ref Liu et al\n",
    "    ride_start_weekend_10_0 = sum(is_weekend & start_hour>=10 & start_hour<24),\n",
    "    ride_start_weekend_0_10 = sum(is_weekend & start_hour>=0 & start_hour<10)\n",
    "  ) %>%\n",
    "  rename(\n",
    "    station_id = start.station.id,\n",
    "    station_latitude = start.station.latitude,\n",
    "    station_longitude = start.station.longitude\n",
    "  )\n",
    "\n",
    "# Calculate end station counts  \n",
    "end_station_july <- citibike_july %>%\n",
    "  group_by(end.station.id, end.station.latitude, end.station.longitude) %>%\n",
    "  summarise(\n",
    "    ride_end_count = n()\n",
    "  ) %>%\n",
    "  rename(\n",
    "    station_id = end.station.id,\n",
    "    station_latitude = end.station.latitude,\n",
    "    station_longitude = end.station.longitude\n",
    "  )\n",
    "\n",
    "# Combine start and end to return ride activity by station\n",
    "station_july <- full_join(start_station_july, end_station_july,\n",
    "                          by= c(\"station_id\", \"station_latitude\", \"station_longitude\")) %>%\n",
    "  # Deal with NA values\n",
    "  mutate(\n",
    "    ride_start_count = ifelse(is.na(ride_start_count), 0, ride_start_count),\n",
    "    ride_end_count = ifelse(is.na(ride_end_count), 0, ride_end_count),\n",
    "    ride_activity = ride_start_count + ride_end_count\n",
    "  )\n",
    "\n",
    "# Add median trip duration for start stations\n",
    "start_station_duration <- citibike_july %>%\n",
    "  group_by(start.station.id) %>%\n",
    "  summarise(median_trip_duration_start = median(tripduration, na.rm=TRUE)) %>%\n",
    "  rename(station_id = start.station.id)\n",
    "\n",
    "# Add median trip duration for end stations\n",
    "end_station_duration <- citibike_july %>%\n",
    "  group_by(end.station.id) %>%\n",
    "  summarise(median_trip_duration_end = median(tripduration, na.rm=TRUE)) %>%\n",
    "  rename(station_id = end.station.id)\n",
    "\n",
    "# Merge median trip duration with station_july\n",
    "station_july <- station_july %>%\n",
    "  left_join(start_station_duration, by= \"station_id\") %>%\n",
    "  left_join(end_station_duration, by= \"station_id\")\n",
    "\n",
    "# Convert cleaned July dataset into sf object\n",
    "station_july_sf <- station_july %>%\n",
    "  st_as_sf(coords = c(\"station_longitude\", \"station_latitude\"), crs=4326, remove=FALSE)\n",
    "\n",
    "# Convert Census polygon crs4269 to crs4329\n",
    "census_joined <- st_transform(census_joined, crs=st_crs(station_july_sf))\n",
    "\n",
    "# Creating an aggregated station dataset at census tract level\n",
    "station_july_nyc <- station_july_sf %>%\n",
    "  # Left join to remove stations outside NYC (do not have census tract)\n",
    "  st_join(census_joined, join= st_within, left=FALSE)\n",
    "ct_station_july <- station_july_nyc %>%\n",
    "  group_by(BoroCT2020) %>%\n",
    "  summarise(\n",
    "    num_stations = n(),\n",
    "    total_ride_start_count = sum(ride_start_count, na.rm=TRUE),\n",
    "    total_ride_end_count = sum(ride_end_count, na.rm=TRUE),\n",
    "    total_ride_activity = sum(ride_activity, na.rm=TRUE),\n",
    "    median_trip_duration_start = median(median_trip_duration_start, na.rm=TRUE),\n",
    "    median_trip_duration_end = median(median_trip_duration_end, na.rm=TRUE),\n",
    "    usertype_subscriber_count = sum(usertype_subscriber_count, na.rm=TRUE),\n",
    "    usertype_customer_count = sum(usertype_customer_count, na.rm=TRUE),\n",
    "    # Adding in the time factor\n",
    "    weekday_7_10 = sum(ride_start_weekday_7_10, na.rm=TRUE),\n",
    "    weekday_10_17 = sum(ride_start_weekday_10_17, na.rm=TRUE),\n",
    "    weekday_17_0 = sum(ride_start_weekday_17_0, na.rm=TRUE),\n",
    "    weekday_0_7 = sum(ride_start_weekday_0_7, na.rm=TRUE),\n",
    "    weekend_10_0 = sum(ride_start_weekend_10_0, na.rm=TRUE),\n",
    "    weekend_0_10 = sum(ride_start_weekend_0_10, na.rm=TRUE)\n",
    "  )\n",
    "\n",
    "# Converting to df to allow for inner join and drop column for polygons without Citibike docks\n",
    "ct_station_july_df <- as.data.frame(ct_station_july)\n",
    "agg_citibike_july <- census_joined %>%\n",
    "  inner_join(ct_station_july_df, by= \"BoroCT2020\")"
   ]
  },
  {
   "cell_type": "code",
   "execution_count": 2,
   "id": "c1f0455f-a237-4ae8-aa20-472b92be3928",
   "metadata": {},
   "outputs": [
    {
     "name": "stderr",
     "output_type": "stream",
     "text": [
      "Map saved to /Users/jiazhuangfeng/Documents/project/spatial_analysis/assignment/map/citibike_ride_activity_census_tract.png\n",
      "\n",
      "Resolution: 1763.409 by 2500.837 pixels\n",
      "\n",
      "Size: 5.878031 by 8.336124 inches (300 dpi)\n",
      "\n"
     ]
    }
   ],
   "source": [
    "ct_station_july_df <- as.data.frame(ct_station_july)\n",
    "agg_citibike_july <- census_joined %>%\n",
    "  inner_join(ct_station_july_df, by= \"BoroCT2020\")\n",
    "\n",
    "map3 <- tm_shape(census_joined) +\n",
    "  tm_borders(col= \"white\") +\n",
    "  tm_fill(col= \"lightgrey\") +\n",
    "  tm_shape(agg_citibike_july) +\n",
    "  tm_polygons(col= \"total_ride_activity\",  # 修改此处\n",
    "              style= \"quantile\",\n",
    "              palette= \"YlOrRd\",\n",
    "              title= \"Total Rides\") +  # 修改此处\n",
    "  tm_layout(title= \"Citibike Ride Activity by Census Tract (July 2019)\",\n",
    "            title.position= c(\"left\", \"top\"),\n",
    "            legend.position= c(\"left\", \"top\"),\n",
    "            legend.outside= FALSE,\n",
    "            frame= FALSE)\n",
    "\n",
    "tmap_save(map3, \"./map/citibike_ride_activity_census_tract.png\")\n"
   ]
  },
  {
   "cell_type": "code",
   "execution_count": 3,
   "id": "e1a8df78-8120-4c0d-85cd-00655fb7169c",
   "metadata": {},
   "outputs": [
    {
     "data": {
      "text/html": [
       "<style>\n",
       ".list-inline {list-style: none; margin:0; padding: 0}\n",
       ".list-inline>li {display: inline-block}\n",
       ".list-inline>li:not(:last-child)::after {content: \"\\00b7\"; padding: 0 .5ex}\n",
       "</style>\n",
       "<ol class=list-inline><li>'CTLabel'</li><li>'BoroCode'</li><li>'BoroName'</li><li>'CT2020'</li><li>'BoroCT2020'</li><li>'CDEligibil'</li><li>'NTAName'</li><li>'NTA2020'</li><li>'CDTA2020'</li><li>'CDTANAME'</li><li>'GEOID'</li><li>'PUMA'</li><li>'Shape_Leng'</li><li>'Shape_Area'</li><li>'Year'</li><li>'GeoType'</li><li>'Borough'</li><li>'GeoID'</li><li>'Pop1'</li><li>'Male.P'</li><li>'FemP'</li><li>'PopU5'</li><li>'Pop5t9'</li><li>'Pop10t14'</li><li>'Pop15t19'</li><li>'Pop20t24'</li><li>'Pop25t29'</li><li>'Pop30t34'</li><li>'Pop35t39'</li><li>'Pop40t44'</li><li>'Pop45t49'</li><li>'Pop50t54'</li><li>'Pop55t59'</li><li>'Pop60t64'</li><li>'Pop65t69'</li><li>'Pop70t74'</li><li>'Pop75t79'</li><li>'Pop80t84'</li><li>'Pop85pl'</li><li>'MdAge'</li><li>'PopU18'</li><li>'Pop65pl'</li><li>'GQClgHsg'</li><li>'Fam'</li><li>'HUnits'</li><li>'OcHU_1P'</li><li>'AvgHHSz'</li><li>'num_stations'</li><li>'total_ride_start_count'</li><li>'total_ride_end_count'</li><li>'total_ride_activity'</li><li>'median_trip_duration_start'</li><li>'median_trip_duration_end'</li><li>'usertype_subscriber_count'</li><li>'usertype_customer_count'</li><li>'weekday_7_10'</li><li>'weekday_10_17'</li><li>'weekday_17_0'</li><li>'weekday_0_7'</li><li>'weekend_10_0'</li><li>'weekend_0_10'</li><li>'geometry.x'</li><li>'geometry.y'</li></ol>\n"
      ],
      "text/latex": [
       "\\begin{enumerate*}\n",
       "\\item 'CTLabel'\n",
       "\\item 'BoroCode'\n",
       "\\item 'BoroName'\n",
       "\\item 'CT2020'\n",
       "\\item 'BoroCT2020'\n",
       "\\item 'CDEligibil'\n",
       "\\item 'NTAName'\n",
       "\\item 'NTA2020'\n",
       "\\item 'CDTA2020'\n",
       "\\item 'CDTANAME'\n",
       "\\item 'GEOID'\n",
       "\\item 'PUMA'\n",
       "\\item 'Shape\\_Leng'\n",
       "\\item 'Shape\\_Area'\n",
       "\\item 'Year'\n",
       "\\item 'GeoType'\n",
       "\\item 'Borough'\n",
       "\\item 'GeoID'\n",
       "\\item 'Pop1'\n",
       "\\item 'Male.P'\n",
       "\\item 'FemP'\n",
       "\\item 'PopU5'\n",
       "\\item 'Pop5t9'\n",
       "\\item 'Pop10t14'\n",
       "\\item 'Pop15t19'\n",
       "\\item 'Pop20t24'\n",
       "\\item 'Pop25t29'\n",
       "\\item 'Pop30t34'\n",
       "\\item 'Pop35t39'\n",
       "\\item 'Pop40t44'\n",
       "\\item 'Pop45t49'\n",
       "\\item 'Pop50t54'\n",
       "\\item 'Pop55t59'\n",
       "\\item 'Pop60t64'\n",
       "\\item 'Pop65t69'\n",
       "\\item 'Pop70t74'\n",
       "\\item 'Pop75t79'\n",
       "\\item 'Pop80t84'\n",
       "\\item 'Pop85pl'\n",
       "\\item 'MdAge'\n",
       "\\item 'PopU18'\n",
       "\\item 'Pop65pl'\n",
       "\\item 'GQClgHsg'\n",
       "\\item 'Fam'\n",
       "\\item 'HUnits'\n",
       "\\item 'OcHU\\_1P'\n",
       "\\item 'AvgHHSz'\n",
       "\\item 'num\\_stations'\n",
       "\\item 'total\\_ride\\_start\\_count'\n",
       "\\item 'total\\_ride\\_end\\_count'\n",
       "\\item 'total\\_ride\\_activity'\n",
       "\\item 'median\\_trip\\_duration\\_start'\n",
       "\\item 'median\\_trip\\_duration\\_end'\n",
       "\\item 'usertype\\_subscriber\\_count'\n",
       "\\item 'usertype\\_customer\\_count'\n",
       "\\item 'weekday\\_7\\_10'\n",
       "\\item 'weekday\\_10\\_17'\n",
       "\\item 'weekday\\_17\\_0'\n",
       "\\item 'weekday\\_0\\_7'\n",
       "\\item 'weekend\\_10\\_0'\n",
       "\\item 'weekend\\_0\\_10'\n",
       "\\item 'geometry.x'\n",
       "\\item 'geometry.y'\n",
       "\\end{enumerate*}\n"
      ],
      "text/markdown": [
       "1. 'CTLabel'\n",
       "2. 'BoroCode'\n",
       "3. 'BoroName'\n",
       "4. 'CT2020'\n",
       "5. 'BoroCT2020'\n",
       "6. 'CDEligibil'\n",
       "7. 'NTAName'\n",
       "8. 'NTA2020'\n",
       "9. 'CDTA2020'\n",
       "10. 'CDTANAME'\n",
       "11. 'GEOID'\n",
       "12. 'PUMA'\n",
       "13. 'Shape_Leng'\n",
       "14. 'Shape_Area'\n",
       "15. 'Year'\n",
       "16. 'GeoType'\n",
       "17. 'Borough'\n",
       "18. 'GeoID'\n",
       "19. 'Pop1'\n",
       "20. 'Male.P'\n",
       "21. 'FemP'\n",
       "22. 'PopU5'\n",
       "23. 'Pop5t9'\n",
       "24. 'Pop10t14'\n",
       "25. 'Pop15t19'\n",
       "26. 'Pop20t24'\n",
       "27. 'Pop25t29'\n",
       "28. 'Pop30t34'\n",
       "29. 'Pop35t39'\n",
       "30. 'Pop40t44'\n",
       "31. 'Pop45t49'\n",
       "32. 'Pop50t54'\n",
       "33. 'Pop55t59'\n",
       "34. 'Pop60t64'\n",
       "35. 'Pop65t69'\n",
       "36. 'Pop70t74'\n",
       "37. 'Pop75t79'\n",
       "38. 'Pop80t84'\n",
       "39. 'Pop85pl'\n",
       "40. 'MdAge'\n",
       "41. 'PopU18'\n",
       "42. 'Pop65pl'\n",
       "43. 'GQClgHsg'\n",
       "44. 'Fam'\n",
       "45. 'HUnits'\n",
       "46. 'OcHU_1P'\n",
       "47. 'AvgHHSz'\n",
       "48. 'num_stations'\n",
       "49. 'total_ride_start_count'\n",
       "50. 'total_ride_end_count'\n",
       "51. 'total_ride_activity'\n",
       "52. 'median_trip_duration_start'\n",
       "53. 'median_trip_duration_end'\n",
       "54. 'usertype_subscriber_count'\n",
       "55. 'usertype_customer_count'\n",
       "56. 'weekday_7_10'\n",
       "57. 'weekday_10_17'\n",
       "58. 'weekday_17_0'\n",
       "59. 'weekday_0_7'\n",
       "60. 'weekend_10_0'\n",
       "61. 'weekend_0_10'\n",
       "62. 'geometry.x'\n",
       "63. 'geometry.y'\n",
       "\n",
       "\n"
      ],
      "text/plain": [
       " [1] \"CTLabel\"                    \"BoroCode\"                  \n",
       " [3] \"BoroName\"                   \"CT2020\"                    \n",
       " [5] \"BoroCT2020\"                 \"CDEligibil\"                \n",
       " [7] \"NTAName\"                    \"NTA2020\"                   \n",
       " [9] \"CDTA2020\"                   \"CDTANAME\"                  \n",
       "[11] \"GEOID\"                      \"PUMA\"                      \n",
       "[13] \"Shape_Leng\"                 \"Shape_Area\"                \n",
       "[15] \"Year\"                       \"GeoType\"                   \n",
       "[17] \"Borough\"                    \"GeoID\"                     \n",
       "[19] \"Pop1\"                       \"Male.P\"                    \n",
       "[21] \"FemP\"                       \"PopU5\"                     \n",
       "[23] \"Pop5t9\"                     \"Pop10t14\"                  \n",
       "[25] \"Pop15t19\"                   \"Pop20t24\"                  \n",
       "[27] \"Pop25t29\"                   \"Pop30t34\"                  \n",
       "[29] \"Pop35t39\"                   \"Pop40t44\"                  \n",
       "[31] \"Pop45t49\"                   \"Pop50t54\"                  \n",
       "[33] \"Pop55t59\"                   \"Pop60t64\"                  \n",
       "[35] \"Pop65t69\"                   \"Pop70t74\"                  \n",
       "[37] \"Pop75t79\"                   \"Pop80t84\"                  \n",
       "[39] \"Pop85pl\"                    \"MdAge\"                     \n",
       "[41] \"PopU18\"                     \"Pop65pl\"                   \n",
       "[43] \"GQClgHsg\"                   \"Fam\"                       \n",
       "[45] \"HUnits\"                     \"OcHU_1P\"                   \n",
       "[47] \"AvgHHSz\"                    \"num_stations\"              \n",
       "[49] \"total_ride_start_count\"     \"total_ride_end_count\"      \n",
       "[51] \"total_ride_activity\"        \"median_trip_duration_start\"\n",
       "[53] \"median_trip_duration_end\"   \"usertype_subscriber_count\" \n",
       "[55] \"usertype_customer_count\"    \"weekday_7_10\"              \n",
       "[57] \"weekday_10_17\"              \"weekday_17_0\"              \n",
       "[59] \"weekday_0_7\"                \"weekend_10_0\"              \n",
       "[61] \"weekend_0_10\"               \"geometry.x\"                \n",
       "[63] \"geometry.y\"                "
      ]
     },
     "metadata": {},
     "output_type": "display_data"
    }
   ],
   "source": [
    "colnames(agg_citibike_july)"
   ]
  },
  {
   "cell_type": "code",
   "execution_count": 4,
   "id": "bd24f0fd-ff6a-4058-804d-831b81ecb904",
   "metadata": {},
   "outputs": [
    {
     "name": "stdout",
     "output_type": "stream",
     "text": [
      "列的数量: 63 \n",
      "列的数量: 63 \n"
     ]
    }
   ],
   "source": [
    "ct_station_july_df <- as.data.frame(ct_station_july)\n",
    "agg_citibike_july <- census_joined %>%\n",
    "  inner_join(ct_station_july_df, by= \"BoroCT2020\")\n",
    "\n",
    "num_columns <- ncol(agg_citibike_july)\n",
    "cat(\"列的数量:\", num_columns, \"\\n\")\n",
    "filtered_data <- agg_citibike_july %>%\n",
    "  filter(total_ride_activity > 0)\n",
    "num_columns <- ncol(filtered_data)\n",
    "cat(\"列的数量:\", num_columns, \"\\n\")\n"
   ]
  },
  {
   "cell_type": "code",
   "execution_count": 5,
   "id": "70448333-881b-4f58-9e3a-d42060906ea7",
   "metadata": {},
   "outputs": [
    {
     "data": {
      "text/html": [
       "<style>\n",
       ".list-inline {list-style: none; margin:0; padding: 0}\n",
       ".list-inline>li {display: inline-block}\n",
       ".list-inline>li:not(:last-child)::after {content: \"\\00b7\"; padding: 0 .5ex}\n",
       "</style>\n",
       "<ol class=list-inline><li>'CTLabel'</li><li>'BoroCode'</li><li>'BoroName'</li><li>'CT2020'</li><li>'BoroCT2020'</li><li>'CDEligibil'</li><li>'NTAName'</li><li>'NTA2020'</li><li>'CDTA2020'</li><li>'CDTANAME'</li><li>'GEOID'</li><li>'PUMA'</li><li>'Shape_Leng'</li><li>'Shape_Area'</li><li>'Year'</li><li>'GeoType'</li><li>'Borough'</li><li>'GeoID'</li><li>'Pop1'</li><li>'Male.P'</li><li>'FemP'</li><li>'PopU5'</li><li>'Pop5t9'</li><li>'Pop10t14'</li><li>'Pop15t19'</li><li>'Pop20t24'</li><li>'Pop25t29'</li><li>'Pop30t34'</li><li>'Pop35t39'</li><li>'Pop40t44'</li><li>'Pop45t49'</li><li>'Pop50t54'</li><li>'Pop55t59'</li><li>'Pop60t64'</li><li>'Pop65t69'</li><li>'Pop70t74'</li><li>'Pop75t79'</li><li>'Pop80t84'</li><li>'Pop85pl'</li><li>'MdAge'</li><li>'PopU18'</li><li>'Pop65pl'</li><li>'GQClgHsg'</li><li>'Fam'</li><li>'HUnits'</li><li>'OcHU_1P'</li><li>'AvgHHSz'</li><li>'num_stations'</li><li>'total_ride_start_count'</li><li>'total_ride_end_count'</li><li>'total_ride_activity'</li><li>'median_trip_duration_start'</li><li>'median_trip_duration_end'</li><li>'usertype_subscriber_count'</li><li>'usertype_customer_count'</li><li>'weekday_7_10'</li><li>'weekday_10_17'</li><li>'weekday_17_0'</li><li>'weekday_0_7'</li><li>'weekend_10_0'</li><li>'weekend_0_10'</li><li>'geometry.x'</li><li>'geometry.y'</li></ol>\n"
      ],
      "text/latex": [
       "\\begin{enumerate*}\n",
       "\\item 'CTLabel'\n",
       "\\item 'BoroCode'\n",
       "\\item 'BoroName'\n",
       "\\item 'CT2020'\n",
       "\\item 'BoroCT2020'\n",
       "\\item 'CDEligibil'\n",
       "\\item 'NTAName'\n",
       "\\item 'NTA2020'\n",
       "\\item 'CDTA2020'\n",
       "\\item 'CDTANAME'\n",
       "\\item 'GEOID'\n",
       "\\item 'PUMA'\n",
       "\\item 'Shape\\_Leng'\n",
       "\\item 'Shape\\_Area'\n",
       "\\item 'Year'\n",
       "\\item 'GeoType'\n",
       "\\item 'Borough'\n",
       "\\item 'GeoID'\n",
       "\\item 'Pop1'\n",
       "\\item 'Male.P'\n",
       "\\item 'FemP'\n",
       "\\item 'PopU5'\n",
       "\\item 'Pop5t9'\n",
       "\\item 'Pop10t14'\n",
       "\\item 'Pop15t19'\n",
       "\\item 'Pop20t24'\n",
       "\\item 'Pop25t29'\n",
       "\\item 'Pop30t34'\n",
       "\\item 'Pop35t39'\n",
       "\\item 'Pop40t44'\n",
       "\\item 'Pop45t49'\n",
       "\\item 'Pop50t54'\n",
       "\\item 'Pop55t59'\n",
       "\\item 'Pop60t64'\n",
       "\\item 'Pop65t69'\n",
       "\\item 'Pop70t74'\n",
       "\\item 'Pop75t79'\n",
       "\\item 'Pop80t84'\n",
       "\\item 'Pop85pl'\n",
       "\\item 'MdAge'\n",
       "\\item 'PopU18'\n",
       "\\item 'Pop65pl'\n",
       "\\item 'GQClgHsg'\n",
       "\\item 'Fam'\n",
       "\\item 'HUnits'\n",
       "\\item 'OcHU\\_1P'\n",
       "\\item 'AvgHHSz'\n",
       "\\item 'num\\_stations'\n",
       "\\item 'total\\_ride\\_start\\_count'\n",
       "\\item 'total\\_ride\\_end\\_count'\n",
       "\\item 'total\\_ride\\_activity'\n",
       "\\item 'median\\_trip\\_duration\\_start'\n",
       "\\item 'median\\_trip\\_duration\\_end'\n",
       "\\item 'usertype\\_subscriber\\_count'\n",
       "\\item 'usertype\\_customer\\_count'\n",
       "\\item 'weekday\\_7\\_10'\n",
       "\\item 'weekday\\_10\\_17'\n",
       "\\item 'weekday\\_17\\_0'\n",
       "\\item 'weekday\\_0\\_7'\n",
       "\\item 'weekend\\_10\\_0'\n",
       "\\item 'weekend\\_0\\_10'\n",
       "\\item 'geometry.x'\n",
       "\\item 'geometry.y'\n",
       "\\end{enumerate*}\n"
      ],
      "text/markdown": [
       "1. 'CTLabel'\n",
       "2. 'BoroCode'\n",
       "3. 'BoroName'\n",
       "4. 'CT2020'\n",
       "5. 'BoroCT2020'\n",
       "6. 'CDEligibil'\n",
       "7. 'NTAName'\n",
       "8. 'NTA2020'\n",
       "9. 'CDTA2020'\n",
       "10. 'CDTANAME'\n",
       "11. 'GEOID'\n",
       "12. 'PUMA'\n",
       "13. 'Shape_Leng'\n",
       "14. 'Shape_Area'\n",
       "15. 'Year'\n",
       "16. 'GeoType'\n",
       "17. 'Borough'\n",
       "18. 'GeoID'\n",
       "19. 'Pop1'\n",
       "20. 'Male.P'\n",
       "21. 'FemP'\n",
       "22. 'PopU5'\n",
       "23. 'Pop5t9'\n",
       "24. 'Pop10t14'\n",
       "25. 'Pop15t19'\n",
       "26. 'Pop20t24'\n",
       "27. 'Pop25t29'\n",
       "28. 'Pop30t34'\n",
       "29. 'Pop35t39'\n",
       "30. 'Pop40t44'\n",
       "31. 'Pop45t49'\n",
       "32. 'Pop50t54'\n",
       "33. 'Pop55t59'\n",
       "34. 'Pop60t64'\n",
       "35. 'Pop65t69'\n",
       "36. 'Pop70t74'\n",
       "37. 'Pop75t79'\n",
       "38. 'Pop80t84'\n",
       "39. 'Pop85pl'\n",
       "40. 'MdAge'\n",
       "41. 'PopU18'\n",
       "42. 'Pop65pl'\n",
       "43. 'GQClgHsg'\n",
       "44. 'Fam'\n",
       "45. 'HUnits'\n",
       "46. 'OcHU_1P'\n",
       "47. 'AvgHHSz'\n",
       "48. 'num_stations'\n",
       "49. 'total_ride_start_count'\n",
       "50. 'total_ride_end_count'\n",
       "51. 'total_ride_activity'\n",
       "52. 'median_trip_duration_start'\n",
       "53. 'median_trip_duration_end'\n",
       "54. 'usertype_subscriber_count'\n",
       "55. 'usertype_customer_count'\n",
       "56. 'weekday_7_10'\n",
       "57. 'weekday_10_17'\n",
       "58. 'weekday_17_0'\n",
       "59. 'weekday_0_7'\n",
       "60. 'weekend_10_0'\n",
       "61. 'weekend_0_10'\n",
       "62. 'geometry.x'\n",
       "63. 'geometry.y'\n",
       "\n",
       "\n"
      ],
      "text/plain": [
       " [1] \"CTLabel\"                    \"BoroCode\"                  \n",
       " [3] \"BoroName\"                   \"CT2020\"                    \n",
       " [5] \"BoroCT2020\"                 \"CDEligibil\"                \n",
       " [7] \"NTAName\"                    \"NTA2020\"                   \n",
       " [9] \"CDTA2020\"                   \"CDTANAME\"                  \n",
       "[11] \"GEOID\"                      \"PUMA\"                      \n",
       "[13] \"Shape_Leng\"                 \"Shape_Area\"                \n",
       "[15] \"Year\"                       \"GeoType\"                   \n",
       "[17] \"Borough\"                    \"GeoID\"                     \n",
       "[19] \"Pop1\"                       \"Male.P\"                    \n",
       "[21] \"FemP\"                       \"PopU5\"                     \n",
       "[23] \"Pop5t9\"                     \"Pop10t14\"                  \n",
       "[25] \"Pop15t19\"                   \"Pop20t24\"                  \n",
       "[27] \"Pop25t29\"                   \"Pop30t34\"                  \n",
       "[29] \"Pop35t39\"                   \"Pop40t44\"                  \n",
       "[31] \"Pop45t49\"                   \"Pop50t54\"                  \n",
       "[33] \"Pop55t59\"                   \"Pop60t64\"                  \n",
       "[35] \"Pop65t69\"                   \"Pop70t74\"                  \n",
       "[37] \"Pop75t79\"                   \"Pop80t84\"                  \n",
       "[39] \"Pop85pl\"                    \"MdAge\"                     \n",
       "[41] \"PopU18\"                     \"Pop65pl\"                   \n",
       "[43] \"GQClgHsg\"                   \"Fam\"                       \n",
       "[45] \"HUnits\"                     \"OcHU_1P\"                   \n",
       "[47] \"AvgHHSz\"                    \"num_stations\"              \n",
       "[49] \"total_ride_start_count\"     \"total_ride_end_count\"      \n",
       "[51] \"total_ride_activity\"        \"median_trip_duration_start\"\n",
       "[53] \"median_trip_duration_end\"   \"usertype_subscriber_count\" \n",
       "[55] \"usertype_customer_count\"    \"weekday_7_10\"              \n",
       "[57] \"weekday_10_17\"              \"weekday_17_0\"              \n",
       "[59] \"weekday_0_7\"                \"weekend_10_0\"              \n",
       "[61] \"weekend_0_10\"               \"geometry.x\"                \n",
       "[63] \"geometry.y\"                "
      ]
     },
     "metadata": {},
     "output_type": "display_data"
    },
    {
     "data": {
      "text/html": [
       "<style>\n",
       ".list-inline {list-style: none; margin:0; padding: 0}\n",
       ".list-inline>li {display: inline-block}\n",
       ".list-inline>li:not(:last-child)::after {content: \"\\00b7\"; padding: 0 .5ex}\n",
       "</style>\n",
       "<ol class=list-inline><li>24762</li><li>11502</li><li>41664</li><li>6513</li><li>5930</li><li>9663</li></ol>\n"
      ],
      "text/latex": [
       "\\begin{enumerate*}\n",
       "\\item 24762\n",
       "\\item 11502\n",
       "\\item 41664\n",
       "\\item 6513\n",
       "\\item 5930\n",
       "\\item 9663\n",
       "\\end{enumerate*}\n"
      ],
      "text/markdown": [
       "1. 24762\n",
       "2. 11502\n",
       "3. 41664\n",
       "4. 6513\n",
       "5. 5930\n",
       "6. 9663\n",
       "\n",
       "\n"
      ],
      "text/plain": [
       "[1] 24762 11502 41664  6513  5930  9663"
      ]
     },
     "metadata": {},
     "output_type": "display_data"
    }
   ],
   "source": [
    "colnames(agg_citibike_july)\n",
    "head(agg_citibike_july$total_ride_activity)"
   ]
  },
  {
   "cell_type": "code",
   "execution_count": 6,
   "id": "95624549-22ab-4f86-a462-518bc1b91eae",
   "metadata": {},
   "outputs": [
    {
     "name": "stderr",
     "output_type": "stream",
     "text": [
      "载入需要的程序包：spData\n",
      "\n",
      "To access larger datasets in this package, install the spDataLarge\n",
      "package with: `install.packages('spDataLarge',\n",
      "repos='https://nowosad.github.io/drat/', type='source')`\n",
      "\n",
      "Warning message in poly2nb(agg_citibike_july, row.names = agg_citibike_july$GEOID):\n",
      "“some observations have no neighbours;\n",
      "if this seems unexpected, try increasing the snap argument.”\n",
      "Warning message in poly2nb(agg_citibike_july, row.names = agg_citibike_july$GEOID):\n",
      "“neighbour object has 3 sub-graphs;\n",
      "if this sub-graph count seems unexpected, try increasing the snap argument.”\n"
     ]
    },
    {
     "name": "stdout",
     "output_type": "stream",
     "text": [
      "Characteristics of weights list object:\n",
      "Neighbour list object:\n",
      "Number of regions: 441 \n",
      "Number of nonzero links: 2258 \n",
      "Percentage nonzero weights: 1.161039 \n",
      "Average number of links: 5.120181 \n",
      "1 region with no links:\n",
      "36047001802\n",
      "3 disjoint connected subgraphs\n",
      "\n",
      "Weights style: W \n",
      "Weights constants summary:\n",
      "    n     nn  S0       S1       S2\n",
      "W 440 193600 440 189.1581 1817.575\n"
     ]
    }
   ],
   "source": [
    "library(sf)\n",
    "library(spdep)\n",
    "\n",
    "# 确保数据是 sf 对象\n",
    "# agg_citibike_july <- st_as_sf(agg_citibike_july)\n",
    "\n",
    "# 创建邻接矩阵\n",
    "nb <- poly2nb(agg_citibike_july, row.names = agg_citibike_july$GEOID)\n",
    "\n",
    "# 将邻接矩阵转换为权重矩阵\n",
    "listw <- nb2listw(nb, style = \"W\", zero.policy = TRUE)\n",
    "\n",
    "# 查看权重矩阵\n",
    "print(listw)\n"
   ]
  },
  {
   "cell_type": "code",
   "execution_count": 7,
   "id": "a1cadfbb-65c1-4d56-a030-cf079f4d0a9c",
   "metadata": {},
   "outputs": [
    {
     "name": "stdout",
     "output_type": "stream",
     "text": [
      "\n",
      "\tMoran I test under randomisation\n",
      "\n",
      "data:  zj  \n",
      "weights: listw  \n",
      "n reduced by no-neighbour observations  \n",
      "\n",
      "Moran I statistic standard deviate = 14.787, p-value < 2.2e-16\n",
      "alternative hypothesis: greater\n",
      "sample estimates:\n",
      "Moran I statistic       Expectation          Variance \n",
      "     0.4460428733     -0.0022779043      0.0009192388 \n",
      "\n"
     ]
    }
   ],
   "source": [
    "library(spdep)\n",
    "\n",
    "# 假设 nb 和 listw 已经创建\n",
    "# nb <- poly2nb(agg_citibike_july, row.names = agg_citibike_july$GEOID, snap = 0.01)\n",
    "# listw <- nb2listw(nb, style = \"W\", zero.policy = TRUE)\n",
    "\n",
    "# 提取 total_ride_activity 作为变量\n",
    "zj <- agg_citibike_july$total_ride_activity\n",
    "\n",
    "# 计算 Moran's I\n",
    "moran_test <- moran.test(zj, listw, zero.policy = TRUE)\n",
    "\n",
    "# 输出结果\n",
    "print(moran_test)\n"
   ]
  },
  {
   "cell_type": "code",
   "execution_count": 54,
   "id": "02c197b6-9447-4766-888c-09fc7e3051eb",
   "metadata": {},
   "outputs": [],
   "source": [
    "library(ggplot2)\n",
    "library(sf)\n",
    "library(spdep)\n",
    "\n",
    "# 提取 total_ride_activity 作为变量\n",
    "zj <- agg_citibike_july$total_ride_activity\n",
    "\n",
    "# 计算局部 Moran's I\n",
    "local_moran <- localmoran(zj, listw, zero.policy = TRUE)\n",
    "\n",
    "# 将结果添加到数据框\n",
    "agg_citibike_july$local_moran_I <- local_moran[,1]\n",
    "agg_citibike_july$local_moran_p_value <- local_moran[,5]\n",
    "\n",
    "# 使用 ggplot2 可视化\n",
    "p <- ggplot() +\n",
    "  geom_sf(data = census_joined, fill = \"grey90\", color = \"white\", size = 0.2) + # 背景地图\n",
    "  geom_sf(data = agg_citibike_july, aes(fill = local_moran_I), color = \"black\", size = 0.2) +\n",
    "  scale_fill_gradient2(low = \"blue\", mid = \"white\", high = \"red\", midpoint = 0, \n",
    "                       name = \"Local Moran's I\", \n",
    "                       na.value = \"grey80\") +\n",
    "  theme_minimal() +\n",
    "  labs(title = \"Local Moran's I for Citibike Activity\",\n",
    "       subtitle = \"Spatial Autocorrelation of Ride Activity\") +\n",
    "  theme(legend.position = \"bottom\")\n",
    "\n",
    "# 保存图形\n",
    "ggsave(filename = \"./map/local_morans_I_citibike.png\", plot = p, width = 10, height = 8, dpi = 300)\n"
   ]
  },
  {
   "cell_type": "code",
   "execution_count": 56,
   "id": "6a4fc019-04b8-4886-a1d7-3957bcba47ed",
   "metadata": {},
   "outputs": [],
   "source": [
    "library(dplyr)\n",
    "library(ggplot2)\n",
    "library(sf)\n",
    "\n",
    "# 添加显著性标记\n",
    "agg_citibike_july <- agg_citibike_july %>%\n",
    "  mutate(significance = case_when(\n",
    "    local_moran_p_value < 0.001 ~ \"99.9% level\",\n",
    "    local_moran_p_value < 0.01 ~ \"99% level\",\n",
    "    local_moran_p_value < 0.05 ~ \"95% level\",\n",
    "    TRUE ~ \"Not significant\"\n",
    "  ))\n",
    "\n",
    "# 绘制地图\n",
    "p <- ggplot() +\n",
    "  geom_sf(data = census_joined, fill = \"grey90\", color = \"white\", size = 0.2) + # 背景地图\n",
    "  geom_sf(data = agg_citibike_july, aes(fill = significance), color = \"black\", size = 0.2) +\n",
    "  scale_fill_manual(values = c(\"99.9% level\" = \"red\", \"99% level\" = \"orange\", \"95% level\" = \"yellow\", \"Not significant\" = \"grey80\"),\n",
    "                    name = \"Significance Level\") +\n",
    "  theme_minimal() +\n",
    "  labs(title = \"Significance of Local Moran's I for Citibike Activity\",\n",
    "       subtitle = \"Spatial Autocorrelation of Ride Activity\") +\n",
    "  theme(legend.position = \"bottom\")\n",
    "\n",
    "# 保存图形\n",
    "ggsave(filename = \"./map/local_morans_I_significance.png\", plot = p, width = 10, height = 8, dpi = 300)\n"
   ]
  },
  {
   "cell_type": "code",
   "execution_count": 58,
   "id": "b759a1ee-0d14-44ea-aa25-35e56f880d13",
   "metadata": {},
   "outputs": [],
   "source": [
    "# 添加聚集类型标记\n",
    "agg_citibike_july <- agg_citibike_july %>%\n",
    "  mutate(cluster_type = case_when(\n",
    "    local_moran_p_value < 0.01 & local_moran_I > 0 & total_ride_activity > mean(total_ride_activity) ~ \"High-High\",\n",
    "    local_moran_p_value < 0.01 & local_moran_I > 0 & total_ride_activity < mean(total_ride_activity) ~ \"Low-Low\",\n",
    "    TRUE ~ \"Not significant\"\n",
    "  ))\n",
    "\n",
    "# 绘制地图\n",
    "p <- ggplot() +\n",
    "  geom_sf(data = census_joined, fill = \"grey90\", color = \"white\", size = 0.2) + # 背景地图\n",
    "  geom_sf(data = agg_citibike_july, aes(fill = cluster_type), color = \"black\", size = 0.2) +\n",
    "  scale_fill_manual(values = c(\"High-High\" = \"yellow\", \"Low-Low\" = \"red\", \"Not significant\" = \"grey80\"),\n",
    "                    name = \"Cluster Type\") +\n",
    "  theme_minimal() +\n",
    "  labs(title = \"Cluster Types of Local Moran's I for Citibike Activity\",\n",
    "       subtitle = \"Spatial Clustering of Ride Activity at 99% Confidence Interval\") +\n",
    "  theme(legend.position = \"bottom\")\n",
    "\n",
    "# 保存图形\n",
    "ggsave(filename = \"./map/local_morans_I_cluster_types.png\", plot = p, width = 10, height = 8, dpi = 300)"
   ]
  },
  {
   "cell_type": "code",
   "execution_count": 59,
   "id": "207b3a73-aa37-4ae6-b29f-040be3133bcf",
   "metadata": {},
   "outputs": [
    {
     "data": {
      "text/plain": [
       "   Min. 1st Qu.  Median    Mean 3rd Qu.    Max. \n",
       "      1    2240    5417    9891   12189  131506 "
      ]
     },
     "metadata": {},
     "output_type": "display_data"
    },
    {
     "data": {
      "text/plain": [
       "\n",
       "      High-High Not significant \n",
       "             60             381 "
      ]
     },
     "metadata": {},
     "output_type": "display_data"
    },
    {
     "data": {
      "application/geo+json": {
       "features": [
        {
         "geometry": {
          "coordinates": [
           [
            [
             [
              -73.9902,
              40.7144
             ],
             [
              -73.9893,
              40.7141
             ],
             [
              -73.9887,
              40.7142
             ],
             [
              -73.9884,
              40.7142
             ],
             [
              -73.9877,
              40.7143
             ],
             [
              -73.9872,
              40.7143
             ],
             [
              -73.9872,
              40.7142
             ],
             [
              -73.9871,
              40.7137
             ],
             [
              -73.9871,
              40.7136
             ],
             [
              -73.987,
              40.7136
             ],
             [
              -73.9869,
              40.7129
             ],
             [
              -73.9869,
              40.7127
             ],
             [
              -73.9869,
              40.7126
             ],
             [
              -73.9869,
              40.7125
             ],
             [
              -73.9868,
              40.7121
             ],
             [
              -73.9868,
              40.7116
             ],
             [
              -73.9867,
              40.7115
             ],
             [
              -73.9866,
              40.7105
             ],
             [
              -73.9866,
              40.7104
             ],
             [
              -73.9866,
              40.7103
             ],
             [
              -73.9866,
              40.7103
             ],
             [
              -73.9866,
              40.7103
             ],
             [
              -73.9866,
              40.7093
             ],
             [
              -73.9882,
              40.7092
             ],
             [
              -73.9882,
              40.7091
             ],
             [
              -73.9884,
              40.7091
             ],
             [
              -73.9884,
              40.7091
             ],
             [
              -73.9885,
              40.7092
             ],
             [
              -73.9885,
              40.7092
             ],
             [
              -73.9886,
              40.7099
             ],
             [
              -73.9886,
              40.7099
             ],
             [
              -73.9887,
              40.7099
             ],
             [
              -73.9887,
              40.7099
             ],
             [
              -73.9887,
              40.7099
             ],
             [
              -73.9887,
              40.71
             ],
             [
              -73.9888,
              40.71
             ],
             [
              -73.9889,
              40.71
             ],
             [
              -73.9894,
              40.7099
             ],
             [
              -73.9895,
              40.7099
             ],
             [
              -73.9896,
              40.7099
             ],
             [
              -73.9897,
              40.7098
             ],
             [
              -73.9902,
              40.7098
             ],
             [
              -73.9905,
              40.7097
             ],
             [
              -73.9908,
              40.7097
             ],
             [
              -73.9911,
              40.7097
             ],
             [
              -73.9914,
              40.7096
             ],
             [
              -73.9917,
              40.7096
             ],
             [
              -73.9918,
              40.7096
             ],
             [
              -73.9919,
              40.7095
             ],
             [
              -73.9919,
              40.7096
             ],
             [
              -73.9919,
              40.7096
             ],
             [
              -73.992,
              40.7096
             ],
             [
              -73.992,
              40.7097
             ],
             [
              -73.992,
              40.7098
             ],
             [
              -73.992,
              40.7098
             ],
             [
              -73.9919,
              40.7098
             ],
             [
              -73.9918,
              40.7098
             ],
             [
              -73.9918,
              40.7098
             ],
             [
              -73.9918,
              40.7101
             ],
             [
              -73.9919,
              40.7106
             ],
             [
              -73.992,
              40.7109
             ],
             [
              -73.992,
              40.711
             ],
             [
              -73.992,
              40.7111
             ],
             [
              -73.9921,
              40.7116
             ],
             [
              -73.9922,
              40.7117
             ],
             [
              -73.9922,
              40.7117
             ],
             [
              -73.9922,
              40.7118
             ],
             [
              -73.9922,
              40.712
             ],
             [
              -73.9922,
              40.7121
             ],
             [
              -73.9922,
              40.7123
             ],
             [
              -73.9923,
              40.7124
             ],
             [
              -73.9923,
              40.7125
             ],
             [
              -73.9924,
              40.7132
             ],
             [
              -73.9925,
              40.7138
             ],
             [
              -73.9925,
              40.7139
             ],
             [
              -73.9926,
              40.7144
             ],
             [
              -73.9921,
              40.7144
             ],
             [
              -73.9912,
              40.7145
             ],
             [
              -73.9908,
              40.7146
             ],
             [
              -73.9902,
              40.7144
             ]
            ]
           ]
          ],
          "type": "MultiPolygon"
         },
         "properties": {
          "local_moran_I": 0.6931,
          "local_moran_p_value": 0.3025,
          "total_ride_activity": 24762
         },
         "type": "Feature"
        },
        {
         "geometry": {
          "coordinates": [
           [
            [
             [
              -73.9884,
              40.7164
             ],
             [
              -73.9875,
              40.7162
             ],
             [
              -73.9867,
              40.716
             ],
             [
              -73.9859,
              40.7157
             ],
             [
              -73.9854,
              40.7156
             ],
             [
              -73.985,
              40.7154
             ],
             [
              -73.9843,
              40.7152
             ],
             [
              -73.9833,
              40.7149
             ],
             [
              -73.983,
              40.7148
             ],
             [
              -73.9825,
              40.7147
             ],
             [
              -73.9826,
              40.7147
             ],
             [
              -73.9831,
              40.7146
             ],
             [
              -73.9847,
              40.7145
             ],
             [
              -73.9853,
              40.7145
             ],
             [
              -73.9856,
              40.7144
             ],
             [
              -73.9857,
              40.7144
             ],
             [
              -73.9859,
              40.7144
             ],
             [
              -73.9872,
              40.7143
             ],
             [
              -73.9877,
              40.7143
             ],
             [
              -73.9884,
              40.7142
             ],
             [
              -73.9887,
              40.7142
             ],
             [
              -73.9893,
              40.7141
             ],
             [
              -73.9902,
              40.7144
             ],
             [
              -73.9902,
              40.7145
             ],
             [
              -73.9902,
              40.7146
             ],
             [
              -73.9902,
              40.7147
             ],
             [
              -73.9898,
              40.7156
             ],
             [
              -73.9892,
              40.7167
             ],
             [
              -73.9884,
              40.7164
             ]
            ]
           ]
          ],
          "type": "MultiPolygon"
         },
         "properties": {
          "local_moran_I": 0.1509,
          "local_moran_p_value": 0.0077,
          "total_ride_activity": 11502
         },
         "type": "Feature"
        },
        {
         "geometry": {
          "coordinates": [
           [
            [
             [
              -73.9899,
              40.7205
             ],
             [
              -73.9897,
              40.7205
             ],
             [
              -73.9896,
              40.7204
             ],
             [
              -73.9891,
              40.7203
             ],
             [
              -73.9884,
              40.7201
             ],
             [
              -73.9875,
              40.7198
             ],
             [
              -73.9868,
              40.7196
             ],
             [
              -73.9874,
              40.7184
             ],
             [
              -73.9874,
              40.7183
             ],
             [
              -73.9874,
              40.7182
             ],
             [
              -73.9875,
              40.7181
             ],
             [
              -73.9879,
              40.7174
             ],
             [
              -73.9879,
              40.7173
             ],
             [
              -73.988,
              40.7173
             ],
             [
              -73.9884,
              40.7164
             ],
             [
              -73.9892,
              40.7167
             ],
             [
              -73.99,
              40.717
             ],
             [
              -73.9907,
              40.7172
             ],
             [
              -73.9912,
              40.7173
             ],
             [
              -73.9913,
              40.7174
             ],
             [
              -73.9914,
              40.7174
             ],
             [
              -73.9922,
              40.7177
             ],
             [
              -73.9931,
              40.7179
             ],
             [
              -73.9938,
              40.7181
             ],
             [
              -73.9948,
              40.7185
             ],
             [
              -73.9944,
              40.7195
             ],
             [
              -73.9942,
              40.7199
             ],
             [
              -73.9942,
              40.72
             ],
             [
              -73.9941,
              40.7202
             ],
             [
              -73.994,
              40.7203
             ],
             [
              -73.9938,
              40.7208
             ],
             [
              -73.9938,
              40.7209
             ],
             [
              -73.9935,
              40.7216
             ],
             [
              -73.9935,
              40.7216
             ],
             [
              -73.9927,
              40.7214
             ],
             [
              -73.9922,
              40.7212
             ],
             [
              -73.9915,
              40.721
             ],
             [
              -73.9906,
              40.7208
             ],
             [
              -73.9899,
              40.7205
             ]
            ]
           ]
          ],
          "type": "MultiPolygon"
         },
         "properties": {
          "local_moran_I": 2.1793,
          "local_moran_p_value": 0.03,
          "total_ride_activity": 41664
         },
         "type": "Feature"
        },
        {
         "geometry": {
          "coordinates": [
           [
            [
             [
              -73.9788,
              40.7199
             ],
             [
              -73.9788,
              40.7199
             ],
             [
              -73.9791,
              40.7193
             ],
             [
              -73.9794,
              40.7187
             ],
             [
              -73.9794,
              40.7186
             ],
             [
              -73.9795,
              40.7185
             ],
             [
              -73.9795,
              40.7184
             ],
             [
              -73.9796,
              40.7184
             ],
             [
              -73.9796,
              40.7183
             ],
             [
              -73.9796,
              40.7182
             ],
             [
              -73.9797,
              40.7181
             ],
             [
              -73.9797,
              40.7181
             ],
             [
              -73.9798,
              40.718
             ],
             [
              -73.9798,
              40.718
             ],
             [
              -73.9798,
              40.7178
             ],
             [
              -73.9799,
              40.7178
             ],
             [
              -73.9799,
              40.7177
             ],
             [
              -73.9799,
              40.7176
             ],
             [
              -73.98,
              40.7176
             ],
             [
              -73.98,
              40.7175
             ],
             [
              -73.9802,
              40.7172
             ],
             [
              -73.9803,
              40.7171
             ],
             [
              -73.9803,
              40.717
             ],
             [
              -73.9804,
              40.7168
             ],
             [
              -73.9804,
              40.7167
             ],
             [
              -73.9805,
              40.7165
             ],
             [
              -73.9806,
              40.7165
             ],
             [
              -73.9814,
              40.7167
             ],
             [
              -73.9823,
              40.717
             ],
             [
              -73.9831,
              40.7172
             ],
             [
              -73.983,
              40.7174
             ],
             [
              -73.9829,
              40.7175
             ],
             [
              -73.9827,
              40.7178
             ],
             [
              -73.9827,
              40.7179
             ],
             [
              -73.9826,
              40.7181
             ],
             [
              -73.9826,
              40.7182
             ],
             [
              -73.9825,
              40.7183
             ],
             [
              -73.9834,
              40.7186
             ],
             [
              -73.9842,
              40.7188
             ],
             [
              -73.9851,
              40.7191
             ],
             [
              -73.9845,
              40.7202
             ],
             [
              -73.9839,
              40.7214
             ],
             [
              -73.9838,
              40.7215
             ],
             [
              -73.983,
              40.7212
             ],
             [
              -73.9822,
              40.721
             ],
             [
              -73.9813,
              40.7207
             ],
             [
              -73.9801,
              40.7203
             ],
             [
              -73.9797,
              40.7202
             ],
             [
              -73.9788,
              40.7199
             ]
            ]
           ]
          ],
          "type": "MultiPolygon"
         },
         "properties": {
          "local_moran_I": -0.0522,
          "local_moran_p_value": 0.6309,
          "total_ride_activity": 6513
         },
         "type": "Feature"
        },
        {
         "geometry": {
          "coordinates": [
           [
            [
             [
              -73.9769,
              40.7225
             ],
             [
              -73.9773,
              40.722
             ],
             [
              -73.9773,
              40.7219
             ],
             [
              -73.9774,
              40.7218
             ],
             [
              -73.9775,
              40.7217
             ],
             [
              -73.9775,
              40.7217
             ],
             [
              -73.9775,
              40.7216
             ],
             [
              -73.9776,
              40.7215
             ],
             [
              -73.9776,
              40.7215
             ],
             [
              -73.9777,
              40.7214
             ],
             [
              -73.9778,
              40.7213
             ],
             [
              -73.978,
              40.7209
             ],
             [
              -73.9781,
              40.7209
             ],
             [
              -73.9781,
              40.7208
             ],
             [
              -73.9782,
              40.7208
             ],
             [
              -73.9782,
              40.7207
             ],
             [
              -73.9782,
              40.7207
             ],
             [
              -73.9806,
              40.7217
             ],
             [
              -73.9812,
              40.7219
             ],
             [
              -73.9816,
              40.7221
             ],
             [
              -73.983,
              40.7227
             ],
             [
              -73.9825,
              40.7233
             ],
             [
              -73.9821,
              40.7239
             ],
             [
              -73.9816,
              40.7245
             ],
             [
              -73.9808,
              40.7242
             ],
             [
              -73.9808,
              40.7241
             ],
             [
              -73.9799,
              40.7238
             ],
             [
              -73.9798,
              40.7237
             ],
             [
              -73.9798,
              40.7237
             ],
             [
              -73.9797,
              40.7237
             ],
             [
              -73.9797,
              40.7237
             ],
             [
              -73.9793,
              40.7235
             ],
             [
              -73.9792,
              40.7235
             ],
             [
              -73.9791,
              40.7234
             ],
             [
              -73.979,
              40.7234
             ],
             [
              -73.979,
              40.7234
             ],
             [
              -73.9789,
              40.7233
             ],
             [
              -73.9788,
              40.7233
             ],
             [
              -73.9788,
              40.7233
             ],
             [
              -73.9787,
              40.7233
             ],
             [
              -73.9787,
              40.7232
             ],
             [
              -73.9786,
              40.7232
             ],
             [
              -73.9785,
              40.7232
             ],
             [
              -73.9785,
              40.7232
             ],
             [
              -73.9784,
              40.7231
             ],
             [
              -73.9783,
              40.7231
             ],
             [
              -73.9783,
              40.7231
             ],
             [
              -73.9782,
              40.7231
             ],
             [
              -73.9769,
              40.7225
             ]
            ]
           ]
          ],
          "type": "MultiPolygon"
         },
         "properties": {
          "local_moran_I": -0.2187,
          "local_moran_p_value": 0.1166,
          "total_ride_activity": 5930
         },
         "type": "Feature"
        },
        {
         "geometry": {
          "coordinates": [
           [
            [
             [
              -73.9733,
              40.7274
             ],
             [
              -73.9738,
              40.7268
             ],
             [
              -73.9743,
              40.7261
             ],
             [
              -73.9744,
              40.7259
             ],
             [
              -73.9744,
              40.7259
             ],
             [
              -73.9745,
              40.7258
             ],
             [
              -73.9746,
              40.7256
             ],
             [
              -73.9747,
              40.7255
             ],
             [
              -73.9747,
              40.7255
             ],
             [
              -73.9749,
              40.7252
             ],
             [
              -73.975,
              40.7251
             ],
             [
              -73.9752,
              40.7249
             ],
             [
              -73.9755,
              40.7245
             ],
             [
              -73.9755,
              40.7244
             ],
             [
              -73.9756,
              40.7243
             ],
             [
              -73.9763,
              40.7246
             ],
             [
              -73.9771,
              40.7249
             ],
             [
              -73.978,
              40.7253
             ],
             [
              -73.9803,
              40.7263
             ],
             [
              -73.9802,
              40.7265
             ],
             [
              -73.9799,
              40.7269
             ],
             [
              -73.9795,
              40.7275
             ],
             [
              -73.979,
              40.7281
             ],
             [
              -73.9785,
              40.7287
             ],
             [
              -73.9781,
              40.7294
             ],
             [
              -73.978,
              40.7294
             ],
             [
              -73.9775,
              40.7292
             ],
             [
              -73.9769,
              40.729
             ],
             [
              -73.9762,
              40.7287
             ],
             [
              -73.9758,
              40.7285
             ],
             [
              -73.9757,
              40.7285
             ],
             [
              -73.9733,
              40.7274
             ]
            ]
           ]
          ],
          "type": "MultiPolygon"
         },
         "properties": {
          "local_moran_I": -0.0262,
          "local_moran_p_value": 0.0035,
          "total_ride_activity": 9663
         },
         "type": "Feature"
        }
       ],
       "type": "FeatureCollection"
      },
      "text/html": [
       "<table class=\"dataframe\">\n",
       "<caption>A sf: 6 × 4</caption>\n",
       "<thead>\n",
       "\t<tr><th></th><th scope=col>local_moran_I</th><th scope=col>local_moran_p_value</th><th scope=col>total_ride_activity</th><th scope=col>geometry.x</th></tr>\n",
       "\t<tr><th></th><th scope=col>&lt;dbl&gt;</th><th scope=col>&lt;dbl&gt;</th><th scope=col>&lt;dbl&gt;</th><th scope=col>&lt;MULTIPOLYGON [°]&gt;</th></tr>\n",
       "</thead>\n",
       "<tbody>\n",
       "\t<tr><th scope=row>1</th><td> 0.69307292</td><td>0.302524734</td><td>24762</td><td>MULTIPOLYGON (((-73.99022 4...</td></tr>\n",
       "\t<tr><th scope=row>2</th><td> 0.15091561</td><td>0.007660137</td><td>11502</td><td>MULTIPOLYGON (((-73.98837 4...</td></tr>\n",
       "\t<tr><th scope=row>3</th><td> 2.17931951</td><td>0.030020959</td><td>41664</td><td>MULTIPOLYGON (((-73.98985 4...</td></tr>\n",
       "\t<tr><th scope=row>4</th><td>-0.05218360</td><td>0.630858797</td><td> 6513</td><td>MULTIPOLYGON (((-73.97875 4...</td></tr>\n",
       "\t<tr><th scope=row>5</th><td>-0.21869483</td><td>0.116579713</td><td> 5930</td><td>MULTIPOLYGON (((-73.97689 4...</td></tr>\n",
       "\t<tr><th scope=row>6</th><td>-0.02624991</td><td>0.003488313</td><td> 9663</td><td>MULTIPOLYGON (((-73.9733 40...</td></tr>\n",
       "</tbody>\n",
       "</table>\n"
      ],
      "text/latex": [
       "A sf: 6 × 4\n",
       "\\begin{tabular}{r|llll}\n",
       "  & local\\_moran\\_I & local\\_moran\\_p\\_value & total\\_ride\\_activity & geometry.x\\\\\n",
       "  & <dbl> & <dbl> & <dbl> & <MULTIPOLYGON {[}°{]}>\\\\\n",
       "\\hline\n",
       "\t1 &  0.69307292 & 0.302524734 & 24762 & MULTIPOLYGON (((-73.99022 4...\\\\\n",
       "\t2 &  0.15091561 & 0.007660137 & 11502 & MULTIPOLYGON (((-73.98837 4...\\\\\n",
       "\t3 &  2.17931951 & 0.030020959 & 41664 & MULTIPOLYGON (((-73.98985 4...\\\\\n",
       "\t4 & -0.05218360 & 0.630858797 &  6513 & MULTIPOLYGON (((-73.97875 4...\\\\\n",
       "\t5 & -0.21869483 & 0.116579713 &  5930 & MULTIPOLYGON (((-73.97689 4...\\\\\n",
       "\t6 & -0.02624991 & 0.003488313 &  9663 & MULTIPOLYGON (((-73.9733 40...\\\\\n",
       "\\end{tabular}\n"
      ],
      "text/markdown": [
       "\n",
       "A sf: 6 × 4\n",
       "\n",
       "| <!--/--> | local_moran_I &lt;dbl&gt; | local_moran_p_value &lt;dbl&gt; | total_ride_activity &lt;dbl&gt; | geometry.x &lt;MULTIPOLYGON [°]&gt; |\n",
       "|---|---|---|---|---|\n",
       "| 1 |  0.69307292 | 0.302524734 | 24762 | MULTIPOLYGON (((-73.99022 4... |\n",
       "| 2 |  0.15091561 | 0.007660137 | 11502 | MULTIPOLYGON (((-73.98837 4... |\n",
       "| 3 |  2.17931951 | 0.030020959 | 41664 | MULTIPOLYGON (((-73.98985 4... |\n",
       "| 4 | -0.05218360 | 0.630858797 |  6513 | MULTIPOLYGON (((-73.97875 4... |\n",
       "| 5 | -0.21869483 | 0.116579713 |  5930 | MULTIPOLYGON (((-73.97689 4... |\n",
       "| 6 | -0.02624991 | 0.003488313 |  9663 | MULTIPOLYGON (((-73.9733 40... |\n",
       "\n"
      ],
      "text/plain": [
       "  local_moran_I local_moran_p_value total_ride_activity\n",
       "1  0.69307292   0.302524734         24762              \n",
       "2  0.15091561   0.007660137         11502              \n",
       "3  2.17931951   0.030020959         41664              \n",
       "4 -0.05218360   0.630858797          6513              \n",
       "5 -0.21869483   0.116579713          5930              \n",
       "6 -0.02624991   0.003488313          9663              \n",
       "  geometry.x                    \n",
       "1 MULTIPOLYGON (((-73.99022 4...\n",
       "2 MULTIPOLYGON (((-73.98837 4...\n",
       "3 MULTIPOLYGON (((-73.98985 4...\n",
       "4 MULTIPOLYGON (((-73.97875 4...\n",
       "5 MULTIPOLYGON (((-73.97689 4...\n",
       "6 MULTIPOLYGON (((-73.9733 40..."
      ]
     },
     "metadata": {},
     "output_type": "display_data"
    }
   ],
   "source": [
    "# 查看数据分布\n",
    "summary(agg_citibike_july$total_ride_activity)\n",
    "\n",
    "# 检查显著性和聚集类型\n",
    "table(agg_citibike_july$cluster_type)\n",
    "\n",
    "# 查看局部 Moran's I 和 p 值\n",
    "head(agg_citibike_july[, c(\"local_moran_I\", \"local_moran_p_value\", \"total_ride_activity\")])\n"
   ]
  },
  {
   "cell_type": "code",
   "execution_count": null,
   "id": "8ff70789-a899-4eeb-870e-714a148b01da",
   "metadata": {},
   "outputs": [],
   "source": []
  }
 ],
 "metadata": {
  "kernelspec": {
   "display_name": "R",
   "language": "R",
   "name": "ir"
  },
  "language_info": {
   "codemirror_mode": "r",
   "file_extension": ".r",
   "mimetype": "text/x-r-source",
   "name": "R",
   "pygments_lexer": "r",
   "version": "4.4.1"
  }
 },
 "nbformat": 4,
 "nbformat_minor": 5
}
