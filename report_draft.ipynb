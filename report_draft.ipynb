{
 "cells": [
  {
   "cell_type": "markdown",
   "id": "4d4a398f-8f08-470d-b534-a5f830d25289",
   "metadata": {},
   "source": [
    "## linear regression"
   ]
  },
  {
   "cell_type": "raw",
   "id": "61d54fed-6ebc-4b1c-9360-384133dc54ce",
   "metadata": {},
   "source": [
    "Call:\n",
    "lm(formula = total_ride_start_count ~ PopU18 + Pop19t64 + Pop65pl + \n",
    "    HUnits + Fam + AvgHHSz + GQClgHsg + Shape_Area + num_stations, \n",
    "    data = agg_citibike_oct)\n",
    "\n",
    "Residuals:\n",
    "     Min       1Q   Median       3Q      Max \n",
    "-15110.9  -2085.3   -316.7   1351.2  22851.2 \n",
    "\n",
    "Coefficients:\n",
    "               Estimate Std. Error t value Pr(>|t|)    \n",
    "(Intercept)   3.053e+01  1.257e+03   0.024  0.98063    \n",
    "PopU18        2.177e+00  9.805e-01   2.220  0.02693 *  \n",
    "Pop19t64     -1.452e+00  4.875e-01  -2.979  0.00306 ** \n",
    "Pop65pl       8.745e-04  8.960e-01   0.001  0.99922    \n",
    "HUnits        4.358e+00  5.870e-01   7.424 6.28e-13 ***\n",
    "Fam          -7.351e+00  1.670e+00  -4.402 1.36e-05 ***\n",
    "AvgHHSz      -7.399e+02  5.672e+02  -1.304  0.19278    \n",
    "GQClgHsg      3.545e+00  8.619e-01   4.113 4.70e-05 ***\n",
    "Shape_Area    4.292e-06  1.006e-04   0.043  0.96599    \n",
    "num_stations  2.889e+03  2.048e+02  14.104  < 2e-16 ***\n",
    "---\n",
    "Signif. codes:  0 ‘***’ 0.001 ‘**’ 0.01 ‘*’ 0.05 ‘.’ 0.1 ‘ ’ 1\n",
    "\n",
    "Residual standard error: 4219 on 425 degrees of freedom\n",
    "Multiple R-squared:  0.5453,\tAdjusted R-squared:  0.5357 \n",
    "F-statistic: 56.64 on 9 and 425 DF,  p-value: < 2.2e-16"
   ]
  },
  {
   "cell_type": "markdown",
   "id": "f63d114f-9740-4773-9f38-8214e3cc0d1e",
   "metadata": {},
   "source": [
    "## Spatial Lag Regression"
   ]
  },
  {
   "cell_type": "markdown",
   "id": "54174f2b-a6b8-4d4d-983e-d9f9bcbb8375",
   "metadata": {},
   "source": [
    "1 月有而 10 月没有的值 (共 15 个)： 011402 016500 022703 023301 036901 037504 038700 036100 039901 000101 038500 037900 038100 023501 023502 \n",
    "10 月有而 1 月没有的值 (共 35 个)： 006800 010802 015801 000500 037300 039100 039900 040100 040300 040900 041100 041300 041500 041900 042100 042300 042500 042700 042900 043100 043300 043500 043700 043900 044100 044300 044500 044700 044901 045300 048500 039500 057902 044902 048100 "
   ]
  },
  {
   "cell_type": "markdown",
   "id": "a6bc15ae-9eef-4afc-b8cc-bfacde00aef4",
   "metadata": {},
   "source": [
    "### 过滤前"
   ]
  },
  {
   "cell_type": "raw",
   "id": "0bb7de80-1f56-4a61-b686-da7ad574c264",
   "metadata": {},
   "source": [
    "Call:lagsarlm(formula = total_ride_start_count ~ PopU18 + Pop19t64 + \n",
    "    Pop65pl + HUnits + Fam + AvgHHSz + GQClgHsg + Shape_Area + \n",
    "    num_stations, data = agg_citibike_oct, listw = D)\n",
    "\n",
    "Residuals:\n",
    "       Min         1Q     Median         3Q        Max \n",
    "-13074.822  -1568.298    -47.966   1595.792  17008.287 \n",
    "\n",
    "Type: lag \n",
    "Coefficients: (numerical Hessian approximate standard errors) \n",
    "                Estimate  Std. Error z value  Pr(>|z|)\n",
    "(Intercept)  -6.1665e+03  9.0413e+02 -6.8203 9.083e-12\n",
    "PopU18       -1.3360e-01  5.5921e-01 -0.2389 0.8111747\n",
    "Pop19t64     -9.7344e-01  3.5176e-01 -2.7674 0.0056513\n",
    "Pop65pl      -1.9815e+00  6.4347e-01 -3.0794 0.0020744\n",
    "HUnits        1.7353e+00  4.4964e-01  3.8593 0.0001137\n",
    "Fam           1.1538e+00  1.1866e+00  0.9724 0.3308750\n",
    "AvgHHSz       5.4163e+02  3.8266e+02  1.4154 0.1569403\n",
    "GQClgHsg      1.6557e+00  6.3177e-01  2.6207 0.0087756\n",
    "Shape_Area    1.8738e-04  7.3717e-05  2.5419 0.0110255\n",
    "num_stations  2.6441e+03  1.4949e+02 17.6876 < 2.2e-16\n",
    "\n",
    "Rho: 0.023027, LR test value: 254.45, p-value: < 2.22e-16\n",
    "Approximate (numerical Hessian) standard error: 0.0011732\n",
    "    z-value: 19.627, p-value: < 2.22e-16\n",
    "Wald statistic: 385.23, p-value: < 2.22e-16\n",
    "\n",
    "Log likelihood: -4116.078 for lag model\n",
    "ML residual variance (sigma squared): 9459400, (sigma: 3075.6)\n",
    "Number of observations: 435 \n",
    "Number of parameters estimated: 12 \n",
    "AIC: 8256.2, (AIC for lm: 8508.6)"
   ]
  },
  {
   "cell_type": "markdown",
   "id": "f2afc4bf-ea26-4cb9-9e93-8af6d28159e6",
   "metadata": {},
   "source": [
    "### 过滤后"
   ]
  },
  {
   "cell_type": "raw",
   "id": "7b8b57f5-ee1e-4b96-9d3c-ebcbba8d7887",
   "metadata": {},
   "source": [
    "all:lagsarlm(formula = total_ride_start_count ~ PopU18 + Pop19t64 + \n",
    "    Pop65pl + HUnits + Fam + AvgHHSz + GQClgHsg + Shape_Area + \n",
    "    num_stations, data = agg_citibike_oct_filtered, listw = D)\n",
    "\n",
    "Residuals:\n",
    "       Min         1Q     Median         3Q        Max \n",
    "-8224.8856 -1542.6994     2.7903  1589.7871 16468.3352 \n",
    "\n",
    "Type: lag \n",
    "Coefficients: (numerical Hessian approximate standard errors) \n",
    "                Estimate  Std. Error z value  Pr(>|z|)\n",
    "(Intercept)  -6.8376e+03  1.0618e+03 -6.4399 1.196e-10\n",
    "PopU18       -2.6587e-01  6.8491e-01 -0.3882  0.697886\n",
    "Pop19t64     -9.4531e-01  3.6753e-01 -2.5720  0.010110\n",
    "Pop65pl      -1.8032e+00  6.4907e-01 -2.7781  0.005468\n",
    "HUnits        1.7777e+00  4.5615e-01  3.8971 9.735e-05\n",
    "Fam           7.1741e-01  1.2194e+00  0.5883  0.556320\n",
    "AvgHHSz       8.0496e+02  4.6249e+02  1.7405  0.081775\n",
    "GQClgHsg      1.6547e+00  6.3932e-01  2.5882  0.009648\n",
    "Shape_Area    1.6553e-04  8.0697e-05  2.0513  0.040236\n",
    "num_stations  2.8947e+03  1.6090e+02 17.9904 < 2.2e-16\n",
    "\n",
    "Rho: 0.022944, LR test value: 241.19, p-value: < 2.22e-16\n",
    "Approximate (numerical Hessian) standard error: 0.001196\n",
    "    z-value: 19.184, p-value: < 2.22e-16\n",
    "Wald statistic: 368.03, p-value: < 2.22e-16\n",
    "\n",
    "Log likelihood: -3779.37 for lag model\n",
    "ML residual variance (sigma squared): 9207400, (sigma: 3034.4)\n",
    "Number of observations: 400 \n",
    "Number of parameters estimated: 12 \n",
    "AIC: 7582.7, (AIC for lm: 7821.9)"
   ]
  },
  {
   "cell_type": "markdown",
   "id": "72edc2d1-bf2a-4f94-83be-0b8d0a393776",
   "metadata": {},
   "source": [
    "### 1. 不同模型整体性能比较\n",
    "\n",
    "\n",
    "| **模型** | **残差范围**          | **四分位数间距 (IQR)** | **标准差 (sigma)** | \n",
    "|----------|-----------------------|-------------------------|---------------------|\n",
    "| **OLS**  | -15110.9 到 22851.2   | -2085.3 到 1351.2       | 4219               | \n",
    "| **SEM**  | -8850.91 到 16311.76  | -1424.55 到 1468.90     | 3013.8             | \n",
    "| **SLM**  | -8224.89 到 16468.34  | -1542.70 到 1589.79     | 3034.4             | \n"
   ]
  },
  {
   "cell_type": "markdown",
   "id": "b6983694-c8ee-43db-81fc-7d318952bcb5",
   "metadata": {},
   "source": [
    "**1. results**\n",
    "\n",
    "OLS 的残差范围和标准差最大,SEM 和 SLM 显著改善了残差表现\n",
    "\n",
    "**2. insights**\n",
    "\n",
    "引入空间依赖显著提升了模型拟合能力。\n"
   ]
  },
  {
   "cell_type": "markdown",
   "id": "d665a2f5-ff49-4004-af9b-991ec9e836ba",
   "metadata": {},
   "source": [
    "### 2. 不同月份模型整体性能比较(以SLM为例)\n",
    "\n",
    "| **数据集**          | **AIC** | **Log Likelihood** | **残差方差** (\\(\\sigma^2\\)) | \n",
    "|---------------------|---------|--------------------|-----------------------------|\n",
    "| 过滤后的 10 月数据  | 7582.7  | -3779.37           | 9207400                     | \n",
    "| 过滤前的 10 月数据  | 8256.2  | -4116.08           | 9459400                     | \n",
    "| 1 月数据            | 7248.5  | -3612.25           | 1995200                     | \n",
    "\n"
   ]
  },
  {
   "cell_type": "markdown",
   "id": "ea27f345-1f4b-46ab-9c93-26c3df82da0a",
   "metadata": {},
   "source": [
    "**1. results**\n",
    "\n",
    "过滤后的10月模型性能得到提升，十分接近1月模型\n",
    "\n",
    "**2. insights**\n",
    "\n",
    "- 过滤后的模型拟合效果提升，说明10月新增区和原有区有异质性\n",
    "- 1月数据只包含长期运营的区，这些区骑行行为更稳定，模型能够更好的捕捉其规律"
   ]
  },
  {
   "cell_type": "markdown",
   "id": "8b6016d6-c7d8-4935-9e30-21497d3a0f1a",
   "metadata": {},
   "source": [
    "### 3. 不同月份显著性比较"
   ]
  },
  {
   "cell_type": "markdown",
   "id": "40fb32fe-f214-4781-a3ce-6eded3287f73",
   "metadata": {},
   "source": [
    "| **变量**         | **过滤后的 10 月数据** | **过滤前的 10 月数据** | **1 月数据** |\n",
    "|------------------|------------------------|------------------------|--------------|\n",
    "| **Intercept**    | 显著 (\\(p < 0.001\\))  | 显著 (\\(p < 0.001\\))  | 显著 (\\(p < 0.001\\)) |\n",
    "| **PopU18**       | 不显著 (\\(p = 0.698\\)) | 不显著 (\\(p = 0.811\\)) | 不显著 (\\(p = 0.837\\)) |\n",
    "| **Pop19t64**     | 显著 (\\(p = 0.010\\))  | 显著 (\\(p = 0.006\\))  | 不显著 (\\(p = 0.126\\)) |\n",
    "| **Pop65pl**      | 显著 (\\(p = 0.005\\))  | 显著 (\\(p = 0.002\\))  | 不显著 (\\(p = 0.121\\)) |\n",
    "| **HUnits**       | 显著 (\\(p < 0.001\\))  | 显著 (\\(p < 0.001\\))  | 显著 (\\(p = 0.002\\)) |\n",
    "| **Fam**          | 不显著 (\\(p = 0.556\\)) | 不显著 (\\(p = 0.331\\)) | 不显著 (\\(p = 0.679\\)) |\n",
    "| **AvgHHSz**      | 边界显著 (\\(p = 0.082\\)) | 不显著 (\\(p = 0.157\\)) | 不显著 (\\(p = 0.444\\)) |\n",
    "| **GQClgHsg**     | 显著 (\\(p = 0.010\\))  | 显著 (\\(p = 0.009\\))  | 无效 (NaN)   |\n",
    "| **Shape_Area**   | 显著 (\\(p = 0.040\\))  | 显著 (\\(p = 0.011\\))  | 不显著 (\\(p = 0.284\\)) |\n",
    "| **num_stations** | 显著 (\\(p < 0.001\\))  | 显著 (\\(p < 0.001\\))  | 显著 (\\(p < 0.001\\)) |"
   ]
  },
  {
   "cell_type": "markdown",
   "id": "a137a00a-da02-4c84-8390-c640e8bfdeef",
   "metadata": {},
   "source": [
    "**1. results**\n",
    "\n",
    "- 过滤前后对变量的显著性影响较小\n",
    "- 10月数据与1月相比，pop19t64和pop65pl都变得显著\n",
    "- 在所有模型中，`num_stations` 始终显著，且系数值较大\n",
    "\n",
    "**2. insights**\n",
    "\n",
    "- 10月中，各变量对骑行量的影响是稳定的，有很明显的特征\n",
    "- 人口结构对骑行量的影响在骑行旺季（10 月）更为重要，而在淡季（1 月）则被弱化\n",
    "- 站点越多，总骑行量自然越高，这种关系可能会掩盖其他变量（如人口结构、区域特征等）对骑行量的真实影响\n",
    "\n",
    "### 19-64人越多，ride acitivty越少?\n",
    "- 商业区居住人少但骑行需求高"
   ]
  },
  {
   "cell_type": "markdown",
   "id": "b521c76a-293c-4001-81b8-7b5f8cf49bd2",
   "metadata": {},
   "source": [
    "### 待验证\n",
    "1. total_ride_activity/num_stations，以消除站点数量的影响\n",
    "2. Pop/Shape_Area, 人口密度骑行次数的影响"
   ]
  }
 ],
 "metadata": {
  "kernelspec": {
   "display_name": "Python 3 (ipykernel)",
   "language": "python",
   "name": "python3"
  },
  "language_info": {
   "codemirror_mode": {
    "name": "ipython",
    "version": 3
   },
   "file_extension": ".py",
   "mimetype": "text/x-python",
   "name": "python",
   "nbconvert_exporter": "python",
   "pygments_lexer": "ipython3",
   "version": "3.11.0"
  }
 },
 "nbformat": 4,
 "nbformat_minor": 5
}
