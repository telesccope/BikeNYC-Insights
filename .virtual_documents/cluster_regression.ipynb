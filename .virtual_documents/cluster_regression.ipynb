install.packages(c("tidyverse", "tm", "cluster", "factoextra"))


# 安装并加载必要的包
library(tidyverse)
library(tm)
library(cluster)
library(factoextra)



# 加载数据
citibike_1 <- read.csv("./data/2019-citibike-tripdata/10_October/201910-citibike-tripdata_1.csv")
citibike_2 <- read.csv("./data/2019-citibike-tripdata/10_October/201910-citibike-tripdata_2.csv")
citibike_3 <- read.csv("./data/2019-citibike-tripdata/10_October/201910-citibike-tripdata_3.csv")

# 合并数据
citibike_oct <- bind_rows(citibike_1, citibike_2, citibike_3)


# 加载 janitor 包（如果尚未安装）
install.packages("janitor")
library(janitor)

# 清理列名
citibike_oct <- citibike_oct %>%
  clean_names()  # 将列名转换为 snake_case 格式

# 查看清理后的列名
colnames(citibike_oct)



library(dplyr)
library(tidyr)

# 转换时间格式
citibike_oct <- citibike_oct %>%
  mutate(starttime = as.POSIXct(starttime, format="%Y-%m-%d %H:%M:%S"),
         stoptime = as.POSIXct(stoptime, format="%Y-%m-%d %H:%M:%S"),
         start_hour = as.POSIXct(format(starttime, "%Y-%m-%d %H:00:00"), format="%Y-%m-%d %H:%M:%S"),
         stop_hour = as.POSIXct(format(stoptime, "%Y-%m-%d %H:00:00"), format="%Y-%m-%d %H:%M:%S"))

# 计算每个站点的每小时进站和出站频率
station_hourly <- citibike_oct %>%
  group_by(start_station_id, start_hour) %>%
  summarise(egress_count = n(), .groups = "drop") %>%
  rename(station_id = start_station_id, time_hour = start_hour) %>%
  bind_rows(
    citibike_oct %>%
      group_by(end_station_id, stop_hour) %>%
      summarise(ingress_count = n(), .groups = "drop") %>%
      rename(station_id = end_station_id, time_hour = stop_hour)
  ) %>%
  group_by(station_id, time_hour) %>%
  summarise(egress = sum(egress_count, na.rm = TRUE),
            ingress = sum(ingress_count, na.rm = TRUE), .groups = "drop")

# 填补时间序列的空缺值
station_hourly <- station_hourly %>%
  complete(station_id, time_hour = seq(min(time_hour), max(time_hour), by = "hour"),
           fill = list(egress = 0, ingress = 0))



# 添加星期和小时信息
station_hourly <- station_hourly %>%
  mutate(weekday = weekdays(as.Date(time_hour)),
         hour = as.numeric(format(as.POSIXct(time_hour), "%H"))) %>%
  group_by(station_id, weekday, hour) %>%
  summarise(egress = sum(egress, na.rm = TRUE),
            ingress = sum(ingress, na.rm = TRUE)) %>%
  ungroup()

# 转换为宽表格式
weekly_profile <- station_hourly %>%
  pivot_wider(names_from = c(weekday, hour), values_from = c(egress, ingress), values_fill = 0)






# 计算TF-IDF权重
tf_idf <- function(x) {
  tf <- x / sum(x)  # 计算词频
  idf <- log(nrow(weekly_profile) / (1 + colSums(x > 0)))  # 计算逆文档频率
  tf * idf  # 计算TF-IDF
}

# 对每个站点的变量应用TF-IDF
weekly_profile_tfidf <- weekly_profile %>%
  select(-station_id) %>%
  as.matrix() %>%
  apply(2, tf_idf) %>%
  as.data.frame()

# 添加站点ID
weekly_profile_tfidf <- cbind(station_id = weekly_profile$station_id, weekly_profile_tfidf)



# 计算余弦相似性
distance_matrix <- as.dist(1 - cor(t(weekly_profile_tfidf[,-1]), method = "cosine"))

# 分层k均值聚类
set.seed(123)
hkmeans_result <- hkmeans(distance_matrix, k = 4)

# 将聚类结果添加到数据中
weekly_profile_tfidf$cluster <- hkmeans_result$cluster



# 绘制热力图
heatmap_data <- weekly_profile_tfidf %>%
  group_by(cluster) %>%
  summarise(across(starts_with("egress"), mean))

heatmap(as.matrix(heatmap_data[,-1]), Rowv = NA, Colv = NA, scale = "column",
        col = heat.colors(256), margins = c(5,10))

# 绘制空间分布图（假设有站点经纬度数据）
station_locations <- read.csv("./data/station_locations.csv")  # 包含station_id, latitude, longitude
cluster_map <- station_locations %>%
  left_join(weekly_profile_tfidf, by = "station_id")

library(ggplot2)
ggplot(cluster_map, aes(x = longitude, y = latitude, color = as.factor(cluster))) +
  geom_point(size = 2) +
  labs(title = "Citi Bike Station Clusters", color = "Cluster") +
  theme_minimal()

