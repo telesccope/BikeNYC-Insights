{
 "cells": [
  {
   "cell_type": "markdown",
   "id": "aacfb21a-e4ee-4cce-a8b9-292747c9018b",
   "metadata": {},
   "source": [
    "## 一 全局值\n",
    "\n",
    "## Moran's I\n",
    "空间自相关指标，观测值如何在空间上聚集\n",
    "\n",
    "## Geary'C\n",
    "同Moran's I，但对局部的差异更敏感\n",
    "\n",
    "## Global G\n",
    "专注于高值或低值的聚集，帮助识别热点和冷点\n",
    "\n",
    "## Getis and Ord's G\n",
    "专注于识别多种局部模式的情况"
   ]
  },
  {
   "cell_type": "markdown",
   "id": "76af7a63-c1dd-4da6-9c44-39ac0ae5815c",
   "metadata": {},
   "source": [
    "## 1. Global Values\n",
    "\n",
    "## Moran's I\n",
    "A measure of spatial autocorrelation, indicating how observations are clustered in space.\n",
    "\n",
    "## Geary's C\n",
    "Similar to Moran's I but more sensitive to local differences.\n",
    "\n",
    "## Global G\n",
    "Focuses on the clustering of high or low values, helping to identify hotspots and cold spots.\n",
    "\n",
    "## Getis and Ord's G\n",
    "Focuses on identifying various local patterns."
   ]
  },
  {
   "cell_type": "markdown",
   "id": "7c530793-36ea-45b4-8d45-6a009b9827f2",
   "metadata": {},
   "source": [
    "## 二 局部值\n",
    "\n",
    "## LISA(Local Moran's I)\n",
    "对Moran's I的局部分解,热点分析,检测空间异质性,识别多种局部特征\n",
    "\n",
    "## Getis and Ord’s G\n",
    "除此之外关注聚集方向"
   ]
  },
  {
   "cell_type": "markdown",
   "id": "fecccec4-5bca-4905-87f5-6cc3cdc3d350",
   "metadata": {},
   "source": [
    "## 2. Local Values\n",
    "\n",
    "## LISA (Local Moran's I)\n",
    "A local decomposition of Moran's I, used for hotspot analysis, detecting spatial heterogeneity, and identifying various local features.\n",
    "\n",
    "## Getis and Ord’s G\n",
    "In addition, focuses on the direction of clustering."
   ]
  },
  {
   "cell_type": "markdown",
   "id": "0c8d2f2e-86fe-4df4-a8f8-a79699ba3cbd",
   "metadata": {},
   "source": [
    "## 三 Data preprocess\n",
    "## Voronoi diagram\n",
    "空间区域划分\n",
    "## Kriging\n",
    "差值，估计空间中的未观测点"
   ]
  },
  {
   "cell_type": "markdown",
   "id": "f42e98c0-c94c-4a2d-adc1-4af9e8342013",
   "metadata": {},
   "source": [
    "## 3. Data preprocess\n",
    "## Voronoi Diagram\n",
    "Divides space into regions based on proximity to a set of points.\n",
    "\n",
    "## Kriging\n",
    "Interpolation method used to estimate values at unobserved locations in space."
   ]
  },
  {
   "cell_type": "code",
   "execution_count": null,
   "id": "22d62c49-941f-47b4-9b73-73fb3531315d",
   "metadata": {},
   "outputs": [],
   "source": []
  }
 ],
 "metadata": {
  "kernelspec": {
   "display_name": "Python 3 (ipykernel)",
   "language": "python",
   "name": "python3"
  },
  "language_info": {
   "codemirror_mode": {
    "name": "ipython",
    "version": 3
   },
   "file_extension": ".py",
   "mimetype": "text/x-python",
   "name": "python",
   "nbconvert_exporter": "python",
   "pygments_lexer": "ipython3",
   "version": "3.8.10"
  }
 },
 "nbformat": 4,
 "nbformat_minor": 5
}
