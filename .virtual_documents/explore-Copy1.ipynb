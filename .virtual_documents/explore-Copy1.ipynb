library(sf)
library(tmap)
library(tmaptools)
library(dplyr)
library(lubridate)
library(ggplot2)
library(gstat)
library(sp)


# Read the census shapefile
census <- st_read(dsn="./data/nyc2020_census/nyct2020.shp", layer="nyct2020")

# Load the population csv data
population <- read.csv("./data/nyc_censusdata_2020.csv")
population$BCT2020 <- as.character(population$BCT2020)

# Join population data to census data
census_joined <- census %>%
  left_join(population, by= c("BoroCT2020"="BCT2020"))

# Plot census polygons
plot(census_joined["CT2020"])

# Load Citibike data
citibike_oct_1 <- read.csv("./data/2020-citibike-tripdata/202010-citibike-tripdata_1.csv")
citibike_oct_2 <- read.csv("./data/2020-citibike-tripdata/202010-citibike-tripdata_2.csv")
citibike_oct_3 <- read.csv("./data/2020-citibike-tripdata/202010-citibike-tripdata_3.csv")

# 强制转换 start_station_id 列为 character 类型
citibike_oct_1 <- citibike_oct_1 %>%
  mutate(start_station_id = as.character(start_station_id))

citibike_oct_2 <- citibike_oct_2 %>%
  mutate(start_station_id = as.character(start_station_id))

citibike_oct_3 <- citibike_oct_3 %>%
  mutate(start_station_id = as.character(start_station_id))

# Bind rows for October data
citibike_oct <- bind_rows(citibike_oct_1, citibike_oct_2, citibike_oct_3)

# Repeat for January data
citibike_jan_1 <- read.csv("./data/2020-citibike-tripdata/202001-citibike-tripdata_1.csv")
citibike_jan_2 <- read.csv("./data/2020-citibike-tripdata/202001-citibike-tripdata_2.csv")

# 强制转换 start_station_id 列为 character 类型
citibike_jan_1 <- citibike_jan_1 %>%
  mutate(start_station_id = as.character(start_station_id))

citibike_jan_2 <- citibike_jan_2 %>%
  mutate(start_station_id = as.character(start_station_id))


citibike_jan <- bind_rows(citibike_jan_1, citibike_jan_2)

# Load Citibike data
citibike_july_1 <- read.csv("./data/2020-citibike-tripdata/202007-citibike-tripdata_1.csv")
citibike_july_2 <- read.csv("./data/2020-citibike-tripdata/202007-citibike-tripdata_2.csv")
citibike_july_3 <- read.csv("./data/2020-citibike-tripdata/202007-citibike-tripdata_3.csv")

# 强制转换 start_station_id 列为 character 类型
citibike_july_1 <- citibike_july_1 %>%
  mutate(start_station_id = as.character(start_station_id))

citibike_july_2 <- citibike_july_2 %>%
  mutate(start_station_id = as.character(start_station_id))

citibike_july_3 <- citibike_july_3 %>%
  mutate(start_station_id = as.character(start_station_id))

# Bind rows for October data
citibike_july <- bind_rows(citibike_july_1, citibike_july_2, citibike_july_3)


# 加载 janitor 包
library(janitor)

# 修改列名为 snake_case
citibike_jan <- citibike_jan %>% clean_names()
citibike_july <- citibike_july %>% clean_names()
citibike_oct <- citibike_oct %>% clean_names()

# 查看修改后的列名
print(colnames(citibike_july))



# 统计 1 月份的 ride_activity 数据
station_jan <- citibike_jan %>%
  group_by(start_station_id, start_lat, start_lng) %>%
  summarise(ride_start_count = n(), .groups = "drop") %>%
  rename(station_id = start_station_id, station_lat = start_lat, station_lng = start_lng)

end_station_jan <- citibike_jan %>%
  group_by(end_station_id, end_lat, end_lng) %>%
  summarise(ride_end_count = n(), .groups = "drop") %>%
  rename(station_id = end_station_id, station_lat = end_lat, station_lng = end_lng)

# 分别统计起点和终点的骑行次数，并计算总的 ride_activity
station_jan <- station_jan %>%
  full_join(end_station_jan, by = c("station_id", "station_lat", "station_lng")) %>%
  mutate(
    ride_start_count = ifelse(is.na(ride_start_count), 0, ride_start_count),
    ride_end_count = ifelse(is.na(ride_end_count), 0, ride_end_count),
    ride_activity = ride_start_count + ride_end_count
  ) %>%
  select(station_id, station_lat, station_lng, ride_activity) # 仅保留所需列

# 统计 10 月份的 ride_activity 数据
station_oct <- citibike_oct %>%
  group_by(start_station_id, start_lat, start_lng) %>%
  summarise(ride_start_count = n(), .groups = "drop") %>%
  rename(station_id = start_station_id, station_lat = start_lat, station_lng = start_lng)

end_station_oct <- citibike_oct %>%
  group_by(end_station_id, end_lat, end_lng) %>%
  summarise(ride_end_count = n(), .groups = "drop") %>%
  rename(station_id = end_station_id, station_lat = end_lat, station_lng = end_lng)

# 分别统计起点和终点的骑行次数，并计算总的 ride_activity
station_oct <- station_oct %>%
  full_join(end_station_oct, by = c("station_id", "station_lat", "station_lng")) %>%
  mutate(
    ride_start_count = ifelse(is.na(ride_start_count), 0, ride_start_count),
    ride_end_count = ifelse(is.na(ride_end_count), 0, ride_end_count),
    ride_activity = ride_start_count + ride_end_count
  ) %>%
  select(station_id, station_lat, station_lng, ride_activity) # 仅保留所需列

# 统计 7 月份的 ride_activity 数据
station_july <- citibike_july %>%
  group_by(start_station_id, start_lat, start_lng) %>%
  summarise(ride_start_count = n(), .groups = "drop") %>%
  rename(station_id = start_station_id, station_lat = start_lat, station_lng = start_lng)

end_station_july <- citibike_july %>%
  group_by(end_station_id, end_lat, end_lng) %>%
  summarise(ride_end_count = n(), .groups = "drop") %>%
  rename(station_id = end_station_id, station_lat = end_lat, station_lng = end_lng)

# 分别统计起点和终点的骑行次数，并计算总的 ride_activity
station_july <- station_july %>%
  full_join(end_station_july, by = c("station_id", "station_lat", "station_lng")) %>%
  mutate(
    ride_start_count = ifelse(is.na(ride_start_count), 0, ride_start_count),
    ride_end_count = ifelse(is.na(ride_end_count), 0, ride_end_count),
    ride_activity = ride_start_count + ride_end_count
  ) %>%
  select(station_id, station_lat, station_lng, ride_activity) # 仅保留所需列


colnames(station_jan)
colnames(station_july)
colnames(station_oct)





station_jan_sf <- station_jan %>%
  st_as_sf(coords = c("station_lng", "station_lat"), crs=4326, remove=FALSE)
station_july_sf <- station_july %>%
  st_as_sf(coords = c("station_lng", "station_lat"), crs=4326, remove=FALSE)
station_oct_sf <- station_oct %>%
  st_as_sf(coords = c("station_lng", "station_lat"), crs=4326, remove=FALSE)
station_jan_sf <- st_transform(station_jan_sf, st_crs(census_joined))
station_july_sf <- st_transform(station_july_sf, st_crs(census_joined))
station_oct_sf <- st_transform(station_oct_sf, st_crs(census_joined))


# Creating an aggregated station dataset at census tract level
station_oct_nyc <- station_oct_sf %>%
  # Left join to remove stations outside NYC (do not have census tract)
  st_join(census_joined, join= st_within, left=FALSE)
ct_station_oct <- station_oct_nyc %>%
  group_by(BoroCT2020) %>%
  summarise(
    num_stations = n(),
    total_ride_activity = sum(ride_activity, na.rm=TRUE),
      )

# Converting to df to allow for inner join and drop column for polygons without Citibike docks
ct_station_oct_df <- as.data.frame(ct_station_oct)
agg_citibike_oct <- census_joined %>%
  inner_join(ct_station_oct_df, by= "BoroCT2020")


# Creating an aggregated station dataset at census tract level
station_july_nyc <- station_july_sf %>%
  # Left join to remove stations outside NYC (do not have census tract)
  st_join(census_joined, join= st_within, left=FALSE)
ct_station_july <- station_july_nyc %>%
  group_by(BoroCT2020) %>%
  summarise(
    num_stations = n(),
    total_ride_activity = sum(ride_activity, na.rm=TRUE),
      )

# Converting to df to allow for inner join and drop column for polygons without Citibike docks
ct_station_july_df <- as.data.frame(ct_station_july)
agg_citibike_july <- census_joined %>%
  inner_join(ct_station_july_df, by= "BoroCT2020")


# Creating an aggregated station dataset at census tract level
station_jan_nyc <- station_jan_sf %>%
  # Left join to remove stations outside NYC (do not have census tract)
  st_join(census_joined, join= st_within, left=FALSE)
ct_station_jan <- station_jan_nyc %>%
  group_by(BoroCT2020) %>%
  summarise(
    num_stations = n(),
    total_ride_activity = sum(ride_activity, na.rm=TRUE),
      )

# Converting to df to allow for inner join and drop column for polygons without Citibike docks
ct_station_jan_df <- as.data.frame(ct_station_jan)
agg_citibike_jan <- census_joined %>%
  inner_join(ct_station_jan_df, by= "BoroCT2020")


library(tmap)

# 单个地图示例
map_jan <- tm_shape(census_joined) +
  tm_borders(col = "white") +
  tm_fill(col = "lightgrey") +
  tm_shape(agg_citibike_jan) +
  tm_polygons(col = "total_ride_activity",
              style = "quantile",
              palette = "YlOrRd",
              title = "Total Ride Start Count") +
  tm_layout(title = "Citibike Ride Activity (Jan 2020)",
            title.position = c("left", "top"),
            legend.position = c("left", "top"),
            legend.outside = FALSE,
            frame = FALSE)
# 七月地图
map_july <- tm_shape(census_joined) +
  tm_borders(col = "white") +
  tm_fill(col = "lightgrey") +
  tm_shape(agg_citibike_july) +
  tm_polygons(col = "total_ride_activity",
              style = "quantile",
              palette = "YlOrRd",
              title = "Total Ride Start Count") +
  tm_layout(title = "Citibike Ride Activity (July 2020)",
            title.position = c("left", "top"),
            legend.position = c("left", "top"),
            legend.outside = FALSE,
            frame = FALSE)

# 十月地图
map_oct <- tm_shape(census_joined) +
  tm_borders(col = "white") +
  tm_fill(col = "lightgrey") +
  tm_shape(agg_citibike_oct) +
  tm_polygons(col = "total_ride_activity",
              style = "quantile",
              palette = "YlOrRd",
              title = "Total Ride Start Count") +
  tm_layout(title = "Citibike Ride Activity (Oct 2020)",
            title.position = c("left", "top"),
            legend.position = c("left", "top"),
            legend.outside = FALSE,
            frame = FALSE)



# 横向排列三个地图
tmap_arrange(map_jan, map_july, map_oct, ncol = 3)
tmap_save(tmap_arrange(map_jan, map_july, map_oct, ncol = 3), "citibike_maps.png", width = 12, height = 4)



